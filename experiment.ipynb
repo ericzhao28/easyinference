{
 "cells": [
  {
   "cell_type": "code",
   "execution_count": 1,
   "metadata": {},
   "outputs": [],
   "source": [
    "from easyinference.cloudsql import table_utils, schema\n",
    "from easyinference import *\n",
    "# from dotenv import load_dotenv\n",
    "\n",
    "# # Load environment variables from .env file if it exists\n",
    "# load_dotenv()\n",
    "# vertexai.init(project=config.GCP_PROJECT_ID, location=config.GCP_REGION)"
   ]
  },
  {
   "cell_type": "code",
   "execution_count": 2,
   "metadata": {},
   "outputs": [],
   "source": [
    "import logging\n",
    "\n",
    "logging.basicConfig(level=logging.INFO)"
   ]
  },
  {
   "cell_type": "markdown",
   "metadata": {},
   "source": [
    "### Test Table Utils"
   ]
  },
  {
   "cell_type": "code",
   "execution_count": 22,
   "metadata": {},
   "outputs": [
    {
     "name": "stderr",
     "output_type": "stream",
     "text": [
      "INFO:easyinference.cloudsql.table_utils:Checking if table 'easyinference_queries' exists\n",
      "ERROR:sqlalchemy.pool.impl.QueuePool:Exception terminating connection <pg8000.dbapi.Connection object at 0x134453770>\n",
      "Traceback (most recent call last):\n",
      "  File \"/Users/theeric/venv/lib/python3.13/site-packages/pg8000/core.py\", line 154, in _read\n",
      "    block = sock.read(size - got)\n",
      "  File \"/opt/homebrew/Cellar/python@3.13/3.13.2/Frameworks/Python.framework/Versions/3.13/lib/python3.13/socket.py\", line 719, in readinto\n",
      "    return self._sock.recv_into(b)\n",
      "           ~~~~~~~~~~~~~~~~~~~~^^^\n",
      "  File \"/opt/homebrew/Cellar/python@3.13/3.13.2/Frameworks/Python.framework/Versions/3.13/lib/python3.13/ssl.py\", line 1304, in recv_into\n",
      "    return self.read(nbytes, buffer)\n",
      "           ~~~~~~~~~^^^^^^^^^^^^^^^^\n",
      "  File \"/opt/homebrew/Cellar/python@3.13/3.13.2/Frameworks/Python.framework/Versions/3.13/lib/python3.13/ssl.py\", line 1138, in read\n",
      "    return self._sslobj.read(len, buffer)\n",
      "           ~~~~~~~~~~~~~~~~~^^^^^^^^^^^^^\n",
      "TimeoutError: [Errno 60] Operation timed out\n",
      "\n",
      "The above exception was the direct cause of the following exception:\n",
      "\n",
      "Traceback (most recent call last):\n",
      "  File \"/Users/theeric/venv/lib/python3.13/site-packages/sqlalchemy/engine/base.py\", line 1964, in _exec_single_context\n",
      "    self.dialect.do_execute(\n",
      "    ~~~~~~~~~~~~~~~~~~~~~~~^\n",
      "        cursor, str_statement, effective_parameters, context\n",
      "        ^^^^^^^^^^^^^^^^^^^^^^^^^^^^^^^^^^^^^^^^^^^^^^^^^^^^\n",
      "    )\n",
      "    ^\n",
      "  File \"/Users/theeric/venv/lib/python3.13/site-packages/sqlalchemy/engine/default.py\", line 942, in do_execute\n",
      "    cursor.execute(statement, parameters)\n",
      "    ~~~~~~~~~~~~~~^^^^^^^^^^^^^^^^^^^^^^^\n",
      "  File \"/Users/theeric/venv/lib/python3.13/site-packages/pg8000/dbapi.py\", line 465, in execute\n",
      "    self._c.execute_simple(\"begin transaction\")\n",
      "    ~~~~~~~~~~~~~~~~~~~~~~^^^^^^^^^^^^^^^^^^^^^\n",
      "  File \"/Users/theeric/venv/lib/python3.13/site-packages/pg8000/core.py\", line 686, in execute_simple\n",
      "    self.handle_messages(context)\n",
      "    ~~~~~~~~~~~~~~~~~~~~^^^^^^^^^\n",
      "  File \"/Users/theeric/venv/lib/python3.13/site-packages/pg8000/core.py\", line 830, in handle_messages\n",
      "    code, data_len = ci_unpack(_read(self._sock, 5))\n",
      "                               ~~~~~^^^^^^^^^^^^^^^\n",
      "  File \"/Users/theeric/venv/lib/python3.13/site-packages/pg8000/core.py\", line 160, in _read\n",
      "    raise InterfaceError(\"network error\") from e\n",
      "pg8000.exceptions.InterfaceError: network error\n",
      "\n",
      "The above exception was the direct cause of the following exception:\n",
      "\n",
      "Traceback (most recent call last):\n",
      "  File \"/Users/theeric/venv/lib/python3.13/site-packages/sqlalchemy/engine/base.py\", line 2352, in _handle_dbapi_exception\n",
      "    raise sqlalchemy_exception.with_traceback(exc_info[2]) from e\n",
      "  File \"/Users/theeric/venv/lib/python3.13/site-packages/sqlalchemy/engine/base.py\", line 1964, in _exec_single_context\n",
      "    self.dialect.do_execute(\n",
      "    ~~~~~~~~~~~~~~~~~~~~~~~^\n",
      "        cursor, str_statement, effective_parameters, context\n",
      "        ^^^^^^^^^^^^^^^^^^^^^^^^^^^^^^^^^^^^^^^^^^^^^^^^^^^^\n",
      "    )\n",
      "    ^\n",
      "  File \"/Users/theeric/venv/lib/python3.13/site-packages/sqlalchemy/engine/default.py\", line 942, in do_execute\n",
      "    cursor.execute(statement, parameters)\n",
      "    ~~~~~~~~~~~~~~^^^^^^^^^^^^^^^^^^^^^^^\n",
      "  File \"/Users/theeric/venv/lib/python3.13/site-packages/pg8000/dbapi.py\", line 465, in execute\n",
      "    self._c.execute_simple(\"begin transaction\")\n",
      "    ~~~~~~~~~~~~~~~~~~~~~~^^^^^^^^^^^^^^^^^^^^^\n",
      "  File \"/Users/theeric/venv/lib/python3.13/site-packages/pg8000/core.py\", line 686, in execute_simple\n",
      "    self.handle_messages(context)\n",
      "    ~~~~~~~~~~~~~~~~~~~~^^^^^^^^^\n",
      "  File \"/Users/theeric/venv/lib/python3.13/site-packages/pg8000/core.py\", line 830, in handle_messages\n",
      "    code, data_len = ci_unpack(_read(self._sock, 5))\n",
      "                               ~~~~~^^^^^^^^^^^^^^^\n",
      "  File \"/Users/theeric/venv/lib/python3.13/site-packages/pg8000/core.py\", line 160, in _read\n",
      "    raise InterfaceError(\"network error\") from e\n",
      "sqlalchemy.exc.InterfaceError: (pg8000.exceptions.InterfaceError) network error\n",
      "[SQL: SELECT pg_catalog.pg_class.relname \n",
      "FROM pg_catalog.pg_class JOIN pg_catalog.pg_namespace ON pg_catalog.pg_namespace.oid = pg_catalog.pg_class.relnamespace \n",
      "WHERE pg_catalog.pg_class.relkind = ANY (ARRAY[%s::VARCHAR, %s::VARCHAR]) AND pg_catalog.pg_class.relpersistence != %s::VARCHAR AND pg_catalog.pg_table_is_visible(pg_catalog.pg_class.oid) AND pg_catalog.pg_namespace.nspname != %s::VARCHAR]\n",
      "[parameters: ('r', 'p', 't', 'pg_catalog')]\n",
      "(Background on this error at: https://sqlalche.me/e/20/rvf5)\n",
      "\n",
      "During handling of the above exception, another exception occurred:\n",
      "\n",
      "Traceback (most recent call last):\n",
      "  File \"/Users/theeric/venv/lib/python3.13/site-packages/pg8000/core.py\", line 144, in _flush\n",
      "    sock.flush()\n",
      "    ~~~~~~~~~~^^\n",
      "  File \"/opt/homebrew/Cellar/python@3.13/3.13.2/Frameworks/Python.framework/Versions/3.13/lib/python3.13/socket.py\", line 737, in write\n",
      "    return self._sock.send(b)\n",
      "           ~~~~~~~~~~~~~~~^^^\n",
      "  File \"/opt/homebrew/Cellar/python@3.13/3.13.2/Frameworks/Python.framework/Versions/3.13/lib/python3.13/ssl.py\", line 1232, in send\n",
      "    return self._sslobj.write(data)\n",
      "           ~~~~~~~~~~~~~~~~~~^^^^^^\n",
      "BrokenPipeError: [Errno 32] Broken pipe\n",
      "\n",
      "The above exception was the direct cause of the following exception:\n",
      "\n",
      "Traceback (most recent call last):\n",
      "  File \"/Users/theeric/venv/lib/python3.13/site-packages/sqlalchemy/pool/base.py\", line 374, in _close_connection\n",
      "    self._dialect.do_terminate(connection)\n",
      "    ~~~~~~~~~~~~~~~~~~~~~~~~~~^^^^^^^^^^^^\n",
      "  File \"/Users/theeric/venv/lib/python3.13/site-packages/sqlalchemy/engine/default.py\", line 706, in do_terminate\n",
      "    self.do_close(dbapi_connection)\n",
      "    ~~~~~~~~~~~~~^^^^^^^^^^^^^^^^^^\n",
      "  File \"/Users/theeric/venv/lib/python3.13/site-packages/sqlalchemy/engine/default.py\", line 709, in do_close\n",
      "    dbapi_connection.close()\n",
      "    ~~~~~~~~~~~~~~~~~~~~~~^^\n",
      "  File \"/Users/theeric/venv/lib/python3.13/site-packages/pg8000/core.py\", line 549, in close\n",
      "    _flush(self._sock)\n",
      "    ~~~~~~^^^^^^^^^^^^\n",
      "  File \"/Users/theeric/venv/lib/python3.13/site-packages/pg8000/core.py\", line 146, in _flush\n",
      "    raise InterfaceError(\"network error\") from e\n",
      "pg8000.exceptions.InterfaceError: network error\n",
      "ERROR:easyinference.cloudsql.table_utils:Failed to create table easyinference_queries: (pg8000.exceptions.InterfaceError) network error\n",
      "[SQL: SELECT pg_catalog.pg_class.relname \n",
      "FROM pg_catalog.pg_class JOIN pg_catalog.pg_namespace ON pg_catalog.pg_namespace.oid = pg_catalog.pg_class.relnamespace \n",
      "WHERE pg_catalog.pg_class.relkind = ANY (ARRAY[%s::VARCHAR, %s::VARCHAR]) AND pg_catalog.pg_class.relpersistence != %s::VARCHAR AND pg_catalog.pg_table_is_visible(pg_catalog.pg_class.oid) AND pg_catalog.pg_namespace.nspname != %s::VARCHAR]\n",
      "[parameters: ('r', 'p', 't', 'pg_catalog')]\n",
      "(Background on this error at: https://sqlalche.me/e/20/rvf5)\n"
     ]
    }
   ],
   "source": [
    "table_utils.create_table_if_not_exists()"
   ]
  },
  {
   "cell_type": "code",
   "execution_count": 4,
   "metadata": {},
   "outputs": [
    {
     "name": "stderr",
     "output_type": "stream",
     "text": [
      "INFO:root:#1 Should succeed\n",
      "INFO:easyinference.cloudsql.table_utils:Attempting to insert or replace row with content hash: dcea2d4e08ea4f8347faa08557729575435e057d3b2d5c7b013b83dcac30a837\n",
      "INFO:easyinference.cloudsql.table_utils:Successfully inserted/replaced row with content hash: dcea2d4e08ea4f8347faa08557729575435e057d3b2d5c7b013b83dcac30a837, assigned row_id: 103\n",
      "INFO:root:#2 Should succeed\n",
      "INFO:easyinference.cloudsql.table_utils:Attempting to insert or replace row with content hash: f3c891fefa2a69584a7d8cb5b6f22578f09bf20e290b9b607082f0a65cc16bef\n",
      "INFO:easyinference.cloudsql.table_utils:Successfully inserted/replaced row with content hash: f3c891fefa2a69584a7d8cb5b6f22578f09bf20e290b9b607082f0a65cc16bef, assigned row_id: 104\n",
      "INFO:root:#3 Should succeed\n",
      "INFO:easyinference.cloudsql.table_utils:Attempting to insert or replace row with content hash: 88720f96dd38b0d052e52a0b7ec9f1a9dcbbcb81be4ad16c5fff25dabbfba93f\n",
      "INFO:easyinference.cloudsql.table_utils:Successfully inserted/replaced row with content hash: 88720f96dd38b0d052e52a0b7ec9f1a9dcbbcb81be4ad16c5fff25dabbfba93f, assigned row_id: 105\n",
      "INFO:root:#4 Should fail\n",
      "INFO:easyinference.cloudsql.table_utils:Attempting to insert or replace row with content hash: 88720f96dd38b0d052e52a0b7ec9f1a9dcbbcb81be4ad16c5fff25dabbfba93f\n",
      "INFO:easyinference.cloudsql.table_utils:Successfully inserted/replaced row with content hash: 88720f96dd38b0d052e52a0b7ec9f1a9dcbbcb81be4ad16c5fff25dabbfba93f, assigned row_id: 106\n",
      "INFO:root:#5 Should Fail\n",
      "INFO:easyinference.cloudsql.table_utils:Attempting to insert or replace row with content hash: 88720f96dd38b0d052e52a0b7ec9f1a9dcbbcb81be4ad16c5fff25dabbfba93f\n",
      "INFO:easyinference.cloudsql.table_utils:Successfully inserted/replaced row with content hash: 88720f96dd38b0d052e52a0b7ec9f1a9dcbbcb81be4ad16c5fff25dabbfba93f, assigned row_id: 107\n",
      "INFO:root:#6 Should Succeed\n",
      "INFO:easyinference.cloudsql.table_utils:Attempting to insert or replace row with content hash: 88720f96dd38b0d052e52a0b7ec9f1a9dcbbcb81be4ad16c5fff25dabbfba93f\n",
      "INFO:easyinference.cloudsql.table_utils:Successfully inserted/replaced row with content hash: 88720f96dd38b0d052e52a0b7ec9f1a9dcbbcb81be4ad16c5fff25dabbfba93f, assigned row_id: 108\n",
      "INFO:root:#7 Should Succeed\n",
      "INFO:easyinference.cloudsql.table_utils:Attempting to insert or replace row with content hash: 88720f96dd38b0d052e52a0b7ec9f1a9dcbbcb81be4ad16c5fff25dabbfba93f\n",
      "INFO:easyinference.cloudsql.table_utils:Successfully inserted/replaced row with content hash: 88720f96dd38b0d052e52a0b7ec9f1a9dcbbcb81be4ad16c5fff25dabbfba93f, assigned row_id: 109\n"
     ]
    },
    {
     "data": {
      "text/plain": [
       "109"
      ]
     },
     "execution_count": 4,
     "metadata": {},
     "output_type": "execute_result"
    }
   ],
   "source": [
    "logging.info(\"#1 Should succeed\")\n",
    "table_utils.insert_row(schema.ConvoRow(\n",
    "    history_json={\"meow\": \"1\"},\n",
    "    query=\"\",\n",
    "    model=\"\",\n",
    "    generation_params_json={},\n",
    "    duplication_index=0,\n",
    "    tags=[\"meow\", \"oink\"],\n",
    "    last_status=schema.RequestStatus.WAITING,\n",
    "))\n",
    "\n",
    "logging.info(\"#2 Should succeed\")\n",
    "table_utils.insert_row(schema.ConvoRow(\n",
    "    history_json={\"meow\": \"1\"},\n",
    "    query=\"\",\n",
    "    model=\"\",\n",
    "    generation_params_json={},\n",
    "    duplication_index=1,\n",
    "    tags=[\"meow\", \"oink\"],\n",
    "    last_status=schema.RequestStatus.WAITING,\n",
    "))\n",
    "\n",
    "logging.info(\"#3 Should succeed\")\n",
    "table_utils.insert_row(schema.ConvoRow(\n",
    "    history_json={\"meow\": \"2\"},\n",
    "    query=\"\",\n",
    "    model=\"\",\n",
    "    generation_params_json={},\n",
    "    duplication_index=0,\n",
    "    tags=[\"meow\", \"oink\"],\n",
    "    last_status=schema.RequestStatus.RUNNING,\n",
    "))\n",
    "\n",
    "logging.info(\"#4 Should fail\")\n",
    "table_utils.insert_row(schema.ConvoRow(\n",
    "    history_json={\"meow\": \"2\"},\n",
    "    query=\"\",\n",
    "    model=\"\",\n",
    "    generation_params_json={},\n",
    "    duplication_index=0,\n",
    "    tags=[\"meow\", \"oink\"],\n",
    "    last_status=schema.RequestStatus.FAILED,\n",
    "))\n",
    "\n",
    "logging.info(\"#5 Should Fail\")\n",
    "table_utils.insert_row(schema.ConvoRow(\n",
    "    history_json={\"meow\": \"2\"},\n",
    "    query=\"\",\n",
    "    model=\"\",\n",
    "    generation_params_json={},\n",
    "    duplication_index=0,\n",
    "    tags=[\"meow\", \"oink\", \"moo\"],\n",
    "    last_status=schema.RequestStatus.WAITING,\n",
    "))\n",
    "\n",
    "logging.info(\"#6 Should Succeed\")\n",
    "table_utils.insert_row(schema.ConvoRow(\n",
    "    history_json={\"meow\": \"2\"},\n",
    "    query=\"\",\n",
    "    model=\"\",\n",
    "    generation_params_json={},\n",
    "    duplication_index=0,\n",
    "    tags=[\"meow\"],\n",
    "    last_status=schema.RequestStatus.WAITING,\n",
    "))\n",
    "\n",
    "logging.info(\"#7 Should Succeed\")\n",
    "table_utils.insert_row(schema.ConvoRow(\n",
    "    history_json={\"meow\": \"2\"},\n",
    "    query=\"\",\n",
    "    model=\"\",\n",
    "    generation_params_json={},\n",
    "    duplication_index=0,\n",
    "    tags=[\"oink\", \"awefawf\"],\n",
    "    last_status=schema.RequestStatus.WAITING,\n",
    "))"
   ]
  },
  {
   "cell_type": "code",
   "execution_count": 5,
   "metadata": {},
   "outputs": [
    {
     "name": "stdout",
     "output_type": "stream",
     "text": [
      "0 None\n",
      "1 <easyinference.cloudsql.schema.ConvoRow object at 0x13486c150>\n",
      "1 <easyinference.cloudsql.schema.ConvoRow object at 0x13486c250>\n",
      "1 <easyinference.cloudsql.schema.ConvoRow object at 0x1341caf30>\n",
      "0 None\n",
      "0 None\n",
      "1 <easyinference.cloudsql.schema.ConvoRow object at 0x1341caf30>\n",
      "1 <easyinference.cloudsql.schema.ConvoRow object at 0x13485d010>\n",
      "1 <easyinference.cloudsql.schema.ConvoRow object at 0x13485d9b0>\n",
      "1 <easyinference.cloudsql.schema.ConvoRow object at 0x13485dc50>\n",
      "1 <easyinference.cloudsql.schema.ConvoRow object at 0x13485d2b0>\n",
      "0 None\n",
      "0 None\n",
      "1 <easyinference.cloudsql.schema.ConvoRow object at 0x13485def0>\n"
     ]
    }
   ],
   "source": [
    "content_hash = schema.ConvoRow(\n",
    "    history_json={\"meow\": \"1\"},\n",
    "    query=\"\",\n",
    "    model=\"\",\n",
    "    generation_params_json={},\n",
    "    duplication_index=0,\n",
    ").content_hash\n",
    "print(0, table_utils.find_existing_row_by_content_hash(content_hash, [\"oink\", \"wefa\"]))\n",
    "print(1, table_utils.find_existing_row_by_content_hash(content_hash, [\"oink\", \"meow\"]))\n",
    "print(1, table_utils.find_existing_row_by_content_hash(content_hash, tag_superset=[\"oink\", \"meow\"]))\n",
    "print(1, table_utils.find_existing_row_by_content_hash(content_hash, tag_superset=[\"oink\", \"meow\", \"owefa\"]))\n",
    "print(0, table_utils.find_existing_row_by_content_hash(content_hash, [\"oink\", \"meow\", \"owefa\"]))\n",
    "print(0, table_utils.find_existing_row_by_content_hash(content_hash, tag_superset=[\"oink\", \"wefa\", \"owefa\"]))\n",
    "print(1, table_utils.find_existing_row_by_content_hash(content_hash, tag_subset=[\"oink\"], tag_superset=[\"oink\", \"meow\"]))\n",
    "print(1, table_utils.find_existing_row_by_content_hash(content_hash, tag_subset=[\"oink\"], tag_superset=[\"oink\", \"meow\", \"awefawef\"]))\n",
    "print(1, table_utils.find_existing_row_by_content_hash(content_hash, [\"meow\", \"oink\"]))\n",
    "print(1, table_utils.find_existing_row_by_content_hash(content_hash, [\"meow\"]))\n",
    "print(1, table_utils.find_existing_row_by_content_hash(content_hash, [\"oink\"]))\n",
    "print(0, table_utils.find_existing_row_by_content_hash(content_hash, [\"awef\"]))\n",
    "print(0, table_utils.find_existing_row_by_content_hash(content_hash, tag_superset=[\"meow\"]))\n",
    "print(1, table_utils.find_existing_row_by_content_hash(content_hash, []))"
   ]
  },
  {
   "cell_type": "code",
   "execution_count": 6,
   "metadata": {},
   "outputs": [
    {
     "name": "stdout",
     "output_type": "stream",
     "text": [
      "{'content_hash': 'dcea2d4e08ea4f8347faa08557729575435e057d3b2d5c7b013b83dcac30a837', 'history_json': {'meow': '1'}, 'query': '', 'model': '', 'generation_params_json': {}, 'duplication_index': 0, 'tags': ['meow', 'oink'], 'request_cause': 'intentional', 'request_timestamp': '2025-03-08T04:56:18.892526+00:00', 'access_timestamps': ['2025-03-08T04:56:18.892526+00:00'], 'attempts_metadata_json': [], 'response_json': {}, 'current_batch': None, 'last_status': 'Waiting', 'failure_count': 0, 'attempts_cap': 3, 'notes': '', 'row_id': 103}\n"
     ]
    }
   ],
   "source": [
    "print(table_utils.find_existing_row_by_content_hash(content_hash).to_dict())"
   ]
  },
  {
   "cell_type": "code",
   "execution_count": 7,
   "metadata": {},
   "outputs": [
    {
     "name": "stderr",
     "output_type": "stream",
     "text": [
      "INFO:easyinference.cloudsql.table_utils:Attempting to insert or replace row with content hash: 0b318514e5dcf0e0a07fa7b6c3aaf2fb12c84c37a10316bece97977c2e46689d\n",
      "INFO:easyinference.cloudsql.table_utils:Successfully inserted/replaced row with content hash: 0b318514e5dcf0e0a07fa7b6c3aaf2fb12c84c37a10316bece97977c2e46689d, assigned row_id: 110\n"
     ]
    },
    {
     "name": "stdout",
     "output_type": "stream",
     "text": [
      "RequestStatus.WAITING\n",
      "RequestStatus.WAITING\n"
     ]
    },
    {
     "name": "stderr",
     "output_type": "stream",
     "text": [
      "INFO:easyinference.cloudsql.table_utils:Attempting to insert or replace row with content hash: 0b318514e5dcf0e0a07fa7b6c3aaf2fb12c84c37a10316bece97977c2e46689d\n"
     ]
    },
    {
     "name": "stdout",
     "output_type": "stream",
     "text": [
      "RequestStatus.WAITING\n"
     ]
    },
    {
     "name": "stderr",
     "output_type": "stream",
     "text": [
      "INFO:easyinference.cloudsql.table_utils:Successfully inserted/replaced row with content hash: 0b318514e5dcf0e0a07fa7b6c3aaf2fb12c84c37a10316bece97977c2e46689d, assigned row_id: 111\n"
     ]
    },
    {
     "name": "stdout",
     "output_type": "stream",
     "text": [
      "RequestStatus.FAILED\n",
      "RequestStatus.FAILED\n"
     ]
    }
   ],
   "source": [
    "content_hash = schema.ConvoRow(\n",
    "    history_json={\"meow\": \"3\"},\n",
    "    query=\"\",\n",
    "    model=\"\",\n",
    "    generation_params_json={},\n",
    "    duplication_index=0,\n",
    ").content_hash\n",
    "\n",
    "table_utils.insert_row(schema.ConvoRow(\n",
    "    history_json={\"meow\": \"3\"},\n",
    "    query=\"\",\n",
    "    model=\"\",\n",
    "    generation_params_json={},\n",
    "    duplication_index=0,\n",
    "    tags=[\"meow\", \"oink\"],\n",
    "    last_status=schema.RequestStatus.WAITING,\n",
    "))\n",
    "print(table_utils.find_existing_row_by_content_hash(content_hash, [\"oink\", \"meow\"]).last_status)\n",
    "print(table_utils.find_existing_row_by_content_hash(content_hash, [\"meow\"]).last_status)\n",
    "print(table_utils.find_existing_row_by_content_hash(content_hash, []).last_status)\n",
    "table_utils.insert_row(schema.ConvoRow(\n",
    "    history_json={\"meow\": \"3\"},\n",
    "    query=\"\",\n",
    "    model=\"\",\n",
    "    generation_params_json={},\n",
    "    duplication_index=0,\n",
    "    tags=[\"meow\", \"eow\"],\n",
    "    last_status=schema.RequestStatus.FAILED,\n",
    "))\n",
    "print(table_utils.find_existing_row_by_content_hash(content_hash, [\"meow\"]).last_status)\n",
    "print(table_utils.find_existing_row_by_content_hash(content_hash, []).last_status)"
   ]
  },
  {
   "cell_type": "code",
   "execution_count": 8,
   "metadata": {},
   "outputs": [
    {
     "name": "stderr",
     "output_type": "stream",
     "text": [
      "INFO:easyinference.cloudsql.table_utils:Attempting to insert or replace row with content hash: 0b318514e5dcf0e0a07fa7b6c3aaf2fb12c84c37a10316bece97977c2e46689d\n",
      "INFO:easyinference.cloudsql.table_utils:Successfully inserted/replaced row with content hash: 0b318514e5dcf0e0a07fa7b6c3aaf2fb12c84c37a10316bece97977c2e46689d, assigned row_id: 112\n",
      "INFO:easyinference.cloudsql.table_utils:Attempting to insert or replace row with content hash: 404cdcd0f51a4a31453ad900773dbd19e5221b339bca8794441dd4f2cc7f7752\n",
      "INFO:easyinference.cloudsql.table_utils:Successfully inserted/replaced row with content hash: 404cdcd0f51a4a31453ad900773dbd19e5221b339bca8794441dd4f2cc7f7752, assigned row_id: 113\n",
      "INFO:easyinference.cloudsql.table_utils:Attempting to insert or replace row with content hash: 39b9655841602662d241d83bfb18a7cc0445594cad7f976087467f7ab1e62b66\n",
      "INFO:easyinference.cloudsql.table_utils:Successfully inserted/replaced row with content hash: 39b9655841602662d241d83bfb18a7cc0445594cad7f976087467f7ab1e62b66, assigned row_id: 114\n",
      "INFO:easyinference.cloudsql.table_utils:Fetching unique current_batch values from most recent rows by statuses: [<RequestStatus.FAILED: 'Failed'>, <RequestStatus.RUNNING: 'Running'>], tag: meow\n",
      "INFO:easyinference.cloudsql.table_utils:Retrieved 2 unique current_batch values from most recent rows with statuses: [<RequestStatus.FAILED: 'Failed'>, <RequestStatus.RUNNING: 'Running'>] and tag: meow\n",
      "INFO:easyinference.cloudsql.table_utils:Attempting to insert or replace row with content hash: 0b318514e5dcf0e0a07fa7b6c3aaf2fb12c84c37a10316bece97977c2e46689d\n"
     ]
    },
    {
     "name": "stdout",
     "output_type": "stream",
     "text": [
      "current_batch current_batchoinke {'current_batchoinke', 'current_batch'}\n"
     ]
    },
    {
     "name": "stderr",
     "output_type": "stream",
     "text": [
      "INFO:easyinference.cloudsql.table_utils:Successfully inserted/replaced row with content hash: 0b318514e5dcf0e0a07fa7b6c3aaf2fb12c84c37a10316bece97977c2e46689d, assigned row_id: 115\n",
      "INFO:easyinference.cloudsql.table_utils:Attempting to insert or replace row with content hash: 33043e81a31c8af57472666926ced6f2b7e7d11a6ed635e47e83cd3779c266c3\n",
      "INFO:easyinference.cloudsql.table_utils:Successfully inserted/replaced row with content hash: 33043e81a31c8af57472666926ced6f2b7e7d11a6ed635e47e83cd3779c266c3, assigned row_id: 116\n",
      "INFO:easyinference.cloudsql.table_utils:Attempting to insert or replace row with content hash: 65f042cf97abee5bb207e209995467de0f36a4607f9bd856a5eb006f073f4eda\n",
      "INFO:easyinference.cloudsql.table_utils:Successfully inserted/replaced row with content hash: 65f042cf97abee5bb207e209995467de0f36a4607f9bd856a5eb006f073f4eda, assigned row_id: 117\n",
      "INFO:easyinference.cloudsql.table_utils:Fetching most recent rows by statuses: [<RequestStatus.FAILED: 'Failed'>, <RequestStatus.RUNNING: 'Running'>], tag: eowawfa, current_batch: oinke\n",
      "INFO:easyinference.cloudsql.table_utils:Retrieved 2 most recent rows with statuses: [<RequestStatus.FAILED: 'Failed'>, <RequestStatus.RUNNING: 'Running'>], tag: eowawfa, current_batch: oinke\n",
      "INFO:easyinference.cloudsql.table_utils:Fetching most recent rows by statuses: [<RequestStatus.FAILED: 'Failed'>, <RequestStatus.RUNNING: 'Running'>], tag: eowawfa, current_batch: boinked\n"
     ]
    },
    {
     "name": "stdout",
     "output_type": "stream",
     "text": [
      "['oinke', 'oinke']\n"
     ]
    },
    {
     "name": "stderr",
     "output_type": "stream",
     "text": [
      "INFO:easyinference.cloudsql.table_utils:Retrieved 1 most recent rows with statuses: [<RequestStatus.FAILED: 'Failed'>, <RequestStatus.RUNNING: 'Running'>], tag: eowawfa, current_batch: boinked\n",
      "INFO:easyinference.cloudsql.table_utils:Fetching most recent rows by statuses: [<RequestStatus.FAILED: 'Failed'>, <RequestStatus.RUNNING: 'Running'>], tag: eowawfa\n"
     ]
    },
    {
     "name": "stdout",
     "output_type": "stream",
     "text": [
      "['boinked']\n"
     ]
    },
    {
     "name": "stderr",
     "output_type": "stream",
     "text": [
      "INFO:easyinference.cloudsql.table_utils:Retrieved 3 most recent rows with statuses: [<RequestStatus.FAILED: 'Failed'>, <RequestStatus.RUNNING: 'Running'>], tag: eowawfa, current_batch: None\n"
     ]
    },
    {
     "name": "stdout",
     "output_type": "stream",
     "text": [
      "['oinke', 'oinke', 'boinked']\n"
     ]
    }
   ],
   "source": [
    "table_utils.insert_row(schema.ConvoRow(\n",
    "    history_json={\"meow\": \"3\"},\n",
    "    query=\"\",\n",
    "    model=\"\",\n",
    "    generation_params_json={},\n",
    "    duplication_index=0,\n",
    "    tags=[\"meow\", \"eow\"],\n",
    "    last_status=schema.RequestStatus.FAILED,\n",
    "    current_batch=\"current_batch\"\n",
    "))\n",
    "table_utils.insert_row(schema.ConvoRow(\n",
    "    history_json={\"meoew\": \"3\"},\n",
    "    query=\"\",\n",
    "    model=\"\",\n",
    "    generation_params_json={},\n",
    "    duplication_index=0,\n",
    "    tags=[\"meow\", \"eow\"],\n",
    "    last_status=schema.RequestStatus.FAILED,\n",
    "    current_batch=\"current_batchoinke\"\n",
    "))\n",
    "table_utils.insert_row(schema.ConvoRow(\n",
    "    history_json={\"meoejw\": \"3\"},\n",
    "    query=\"\",\n",
    "    model=\"\",\n",
    "    generation_params_json={},\n",
    "    duplication_index=0,\n",
    "    tags=[\"meow\", \"eow\"],\n",
    "    last_status=schema.RequestStatus.SUCCEEDED,\n",
    "    current_batch=\"coawjefoiawjef\"\n",
    "))\n",
    "print(\"current_batch\", \"current_batchoinke\", table_utils.get_batch_ids_by_status_and_tag([schema.RequestStatus.FAILED, schema.RequestStatus.RUNNING], tag=\"meow\"))\n",
    "\n",
    "table_utils.insert_row(schema.ConvoRow(\n",
    "    history_json={\"meow\": \"3\"},\n",
    "    query=\"\",\n",
    "    model=\"\",\n",
    "    generation_params_json={},\n",
    "    duplication_index=0,\n",
    "    tags=[\"eowawfa\"],\n",
    "    last_status=schema.RequestStatus.FAILED,\n",
    "    current_batch=\"oinke\"\n",
    "))\n",
    "table_utils.insert_row(schema.ConvoRow(\n",
    "    history_json={\"meow\": \"4\"},\n",
    "    query=\"\",\n",
    "    model=\"\",\n",
    "    generation_params_json={},\n",
    "    duplication_index=0,\n",
    "    tags=[\"eowawfa\"],\n",
    "    last_status=schema.RequestStatus.FAILED,\n",
    "    current_batch=\"oinke\"\n",
    "))\n",
    "table_utils.insert_row(schema.ConvoRow(\n",
    "    history_json={\"meow\": \"5\"},\n",
    "    query=\"\",\n",
    "    model=\"\",\n",
    "    generation_params_json={},\n",
    "    duplication_index=0,\n",
    "    tags=[\"eowawfa\"],\n",
    "    last_status=schema.RequestStatus.FAILED,\n",
    "    current_batch=\"boinked\"\n",
    "))\n",
    "print([row.current_batch for row in table_utils.get_rows_by_status_and_tag_and_batch([schema.RequestStatus.FAILED, schema.RequestStatus.RUNNING], tag=\"eowawfa\", current_batch=\"oinke\")])\n",
    "print([row.current_batch for row in table_utils.get_rows_by_status_and_tag_and_batch([schema.RequestStatus.FAILED, schema.RequestStatus.RUNNING], tag=\"eowawfa\", current_batch=\"boinked\")])\n",
    "print([row.current_batch for row in table_utils.get_rows_by_status_and_tag_and_batch([schema.RequestStatus.FAILED, schema.RequestStatus.RUNNING], tag=\"eowawfa\")])"
   ]
  },
  {
   "cell_type": "code",
   "execution_count": 9,
   "metadata": {},
   "outputs": [
    {
     "name": "stderr",
     "output_type": "stream",
     "text": [
      "INFO:easyinference.cloudsql.table_utils:Fetching most recent rows by statuses: [<RequestStatus.FAILED: 'Failed'>, <RequestStatus.RUNNING: 'Running'>], tag: eowawfa\n"
     ]
    },
    {
     "name": "stdout",
     "output_type": "stream",
     "text": [
      "###\n",
      "oinke\n",
      "oinke\n",
      "###\n",
      "boinked\n"
     ]
    },
    {
     "name": "stderr",
     "output_type": "stream",
     "text": [
      "INFO:easyinference.cloudsql.table_utils:Retrieved 3 most recent rows with statuses: [<RequestStatus.FAILED: 'Failed'>, <RequestStatus.RUNNING: 'Running'>], tag: eowawfa in batches of size: 2\n"
     ]
    }
   ],
   "source": [
    "for batch in table_utils.stream_rows_by_status_and_tag([schema.RequestStatus.FAILED, schema.RequestStatus.RUNNING], tag=\"eowawfa\", batch_size=2):\n",
    "    print(\"###\")\n",
    "    for row in batch:\n",
    "        print(row.current_batch)"
   ]
  },
  {
   "cell_type": "markdown",
   "metadata": {},
   "source": [
    "### Test Inference"
   ]
  },
  {
   "cell_type": "code",
   "execution_count": 3,
   "metadata": {},
   "outputs": [
    {
     "name": "stderr",
     "output_type": "stream",
     "text": [
      "INFO:easyinference.inference:Running inference with timestamp tag: 20250308T064352\n",
      "INFO:easyinference.cloudsql.table_utils:Attempting to insert or replace row with content hash: d6400d71fa08f44b12af7d28b05edd5ad8ab78a630e0063a0fd71e8a7fdb776e\n",
      "INFO:easyinference.cloudsql.table_utils:Found existing row with row_id 16. Will replace it.\n",
      "INFO:easyinference.cloudsql.table_utils:Successfully inserted/replaced row with content hash: d6400d71fa08f44b12af7d28b05edd5ad8ab78a630e0063a0fd71e8a7fdb776e, assigned row_id: 16\n",
      "INFO:easyinference.inference:Running clearing inference for tag 20250308T064352\n",
      "INFO:easyinference.cloudsql.table_utils:Fetching unique current_batch values from most recent rows by statuses: [<RequestStatus.RUNNING: 'Running'>, <RequestStatus.PENDING: 'Pending'>], tag: 20250308T064352\n",
      "INFO:easyinference.cloudsql.table_utils:Retrieved 0 unique current_batch values from most recent rows with statuses: [<RequestStatus.RUNNING: 'Running'>, <RequestStatus.PENDING: 'Pending'>] and tag: 20250308T064352\n",
      "INFO:easyinference.inference:Checking now if there are new rows that need to be launched\n",
      "INFO:easyinference.cloudsql.table_utils:Fetching most recent rows by statuses: [<RequestStatus.WAITING: 'Waiting'>, <RequestStatus.FAILED: 'Failed'>], tag: 20250308T064352\n",
      "INFO:easyinference.cloudsql.table_utils:Retrieved 0 most recent rows with statuses: [<RequestStatus.WAITING: 'Waiting'>, <RequestStatus.FAILED: 'Failed'>], tag: 20250308T064352 in batches of size: 3\n",
      "INFO:easyinference.inference:Checking now if we are completely done with this tag\n",
      "INFO:easyinference.cloudsql.table_utils:Fetching most recent rows by statuses: [<RequestStatus.WAITING: 'Waiting'>, <RequestStatus.FAILED: 'Failed'>, <RequestStatus.PENDING: 'Pending'>, <RequestStatus.RUNNING: 'Running'>], tag: 20250308T064352\n",
      "INFO:easyinference.cloudsql.table_utils:Retrieved 0 most recent rows with statuses: [<RequestStatus.WAITING: 'Waiting'>, <RequestStatus.FAILED: 'Failed'>, <RequestStatus.PENDING: 'Pending'>, <RequestStatus.RUNNING: 'Running'>], tag: 20250308T064352, current_batch: None\n",
      "INFO:easyinference.inference:Clearing inference for tag 20250308T064352 completed\n"
     ]
    },
    {
     "data": {
      "text/plain": [
       "([(['Meow back at you!  :)\\n'], ['Meow'])], '20250308T064352')"
      ]
     },
     "execution_count": 3,
     "metadata": {},
     "output_type": "execute_result"
    }
   ],
   "source": [
    "await inference(\n",
    "    [lambda x: x],\n",
    "    datapoints=[\"Meow\"],\n",
    "    tags=[\"temp\"],\n",
    "    temperature=2,\n",
    "    max_output_tokens=50,\n",
    "    model_name=\"publishers/google/models/gemini-1.5-flash-002\",\n",
    "    run_fast=False,\n",
    "    batch_size=3\n",
    ")"
   ]
  },
  {
   "cell_type": "code",
   "execution_count": 11,
   "metadata": {},
   "outputs": [
    {
     "name": "stderr",
     "output_type": "stream",
     "text": [
      "INFO:easyinference.inference:Running inference with timestamp tag: 20250308T045636\n",
      "INFO:easyinference.cloudsql.table_utils:Attempting to insert or replace row with content hash: 39615849a8e435b37aa69b92ae51a3594482f54b38a502bbd2083be52725ab57\n",
      "INFO:easyinference.cloudsql.table_utils:Found existing row with row_id 17. Will replace it.\n",
      "INFO:easyinference.cloudsql.table_utils:Successfully inserted/replaced row with content hash: 39615849a8e435b37aa69b92ae51a3594482f54b38a502bbd2083be52725ab57, assigned row_id: 17\n",
      "INFO:easyinference.cloudsql.table_utils:Attempting to insert or replace row with content hash: 2188e8d84c9dc41702b1b1b3dd82b9ab0b4dbca350ceeaff36c5436303870a26\n",
      "INFO:easyinference.cloudsql.table_utils:Found existing row with row_id 18. Will replace it.\n",
      "INFO:easyinference.cloudsql.table_utils:Successfully inserted/replaced row with content hash: 2188e8d84c9dc41702b1b1b3dd82b9ab0b4dbca350ceeaff36c5436303870a26, assigned row_id: 18\n",
      "INFO:easyinference.cloudsql.table_utils:Attempting to insert or replace row with content hash: 0ffb4f4a401d8710f458284fb12fdcc4b9b796a196d90a894f59bfec9636d034\n",
      "INFO:easyinference.cloudsql.table_utils:Found existing row with row_id 19. Will replace it.\n",
      "INFO:easyinference.cloudsql.table_utils:Successfully inserted/replaced row with content hash: 0ffb4f4a401d8710f458284fb12fdcc4b9b796a196d90a894f59bfec9636d034, assigned row_id: 19\n",
      "INFO:easyinference.cloudsql.table_utils:Attempting to insert or replace row with content hash: ecae8272d4a8f0a4c837cdad884b38167f1d4481d5b77a70dd938f21b8a25401\n",
      "INFO:easyinference.cloudsql.table_utils:Found existing row with row_id 20. Will replace it.\n",
      "INFO:easyinference.cloudsql.table_utils:Successfully inserted/replaced row with content hash: ecae8272d4a8f0a4c837cdad884b38167f1d4481d5b77a70dd938f21b8a25401, assigned row_id: 20\n",
      "INFO:easyinference.cloudsql.table_utils:Attempting to insert or replace row with content hash: 906a5e8abf47b9b92238ee242b883b80e9d83c738d302eb098144fb85ae78155\n",
      "INFO:easyinference.cloudsql.table_utils:Found existing row with row_id 21. Will replace it.\n",
      "INFO:easyinference.cloudsql.table_utils:Successfully inserted/replaced row with content hash: 906a5e8abf47b9b92238ee242b883b80e9d83c738d302eb098144fb85ae78155, assigned row_id: 21\n",
      "INFO:easyinference.cloudsql.table_utils:Attempting to insert or replace row with content hash: 001786a2621233aa8a993e11510e9b47925f885727b0fef5b78ec9b9b3cc9c5c\n",
      "INFO:easyinference.cloudsql.table_utils:Found existing row with row_id 22. Will replace it.\n",
      "INFO:easyinference.cloudsql.table_utils:Successfully inserted/replaced row with content hash: 001786a2621233aa8a993e11510e9b47925f885727b0fef5b78ec9b9b3cc9c5c, assigned row_id: 22\n",
      "INFO:easyinference.cloudsql.table_utils:Attempting to insert or replace row with content hash: e745692ed5622e0825ca7a089bb8661d91bd59f3509fcf2fabdb08a9aeec2628\n",
      "INFO:easyinference.cloudsql.table_utils:Found existing row with row_id 23. Will replace it.\n",
      "INFO:easyinference.cloudsql.table_utils:Successfully inserted/replaced row with content hash: e745692ed5622e0825ca7a089bb8661d91bd59f3509fcf2fabdb08a9aeec2628, assigned row_id: 23\n",
      "INFO:easyinference.cloudsql.table_utils:Attempting to insert or replace row with content hash: e863f6bdcd1d73a7ae961cc8da7fc72383e8b4ce8eb3524054c015a5dd517d32\n",
      "INFO:easyinference.cloudsql.table_utils:Found existing row with row_id 24. Will replace it.\n",
      "INFO:easyinference.cloudsql.table_utils:Successfully inserted/replaced row with content hash: e863f6bdcd1d73a7ae961cc8da7fc72383e8b4ce8eb3524054c015a5dd517d32, assigned row_id: 24\n",
      "INFO:easyinference.cloudsql.table_utils:Attempting to insert or replace row with content hash: 36501e1aa1b10b8f47e18a2a79f71dfd9f5c3b1bd70113d149b2a554e5cbfa7f\n",
      "INFO:easyinference.cloudsql.table_utils:Found existing row with row_id 25. Will replace it.\n",
      "INFO:easyinference.cloudsql.table_utils:Successfully inserted/replaced row with content hash: 36501e1aa1b10b8f47e18a2a79f71dfd9f5c3b1bd70113d149b2a554e5cbfa7f, assigned row_id: 25\n",
      "INFO:easyinference.inference:Running clearing inference for tag 20250308T045636\n",
      "INFO:easyinference.cloudsql.table_utils:Fetching unique current_batch values from most recent rows by statuses: [<RequestStatus.RUNNING: 'Running'>, <RequestStatus.PENDING: 'Pending'>], tag: 20250308T045636\n",
      "INFO:easyinference.cloudsql.table_utils:Retrieved 0 unique current_batch values from most recent rows with statuses: [<RequestStatus.RUNNING: 'Running'>, <RequestStatus.PENDING: 'Pending'>] and tag: 20250308T045636\n",
      "INFO:easyinference.inference:Checking now if there are new rows that need to be launched\n",
      "INFO:easyinference.cloudsql.table_utils:Fetching most recent rows by statuses: [<RequestStatus.WAITING: 'Waiting'>, <RequestStatus.FAILED: 'Failed'>], tag: 20250308T045636\n",
      "INFO:easyinference.cloudsql.table_utils:Retrieved 0 most recent rows with statuses: [<RequestStatus.WAITING: 'Waiting'>, <RequestStatus.FAILED: 'Failed'>], tag: 20250308T045636 in batches of size: 3\n",
      "INFO:easyinference.inference:Checking now if we are completely done with this tag\n",
      "INFO:easyinference.cloudsql.table_utils:Fetching most recent rows by statuses: [<RequestStatus.WAITING: 'Waiting'>, <RequestStatus.FAILED: 'Failed'>, <RequestStatus.PENDING: 'Pending'>, <RequestStatus.RUNNING: 'Running'>], tag: 20250308T045636\n",
      "INFO:easyinference.cloudsql.table_utils:Retrieved 0 most recent rows with statuses: [<RequestStatus.WAITING: 'Waiting'>, <RequestStatus.FAILED: 'Failed'>, <RequestStatus.PENDING: 'Pending'>, <RequestStatus.RUNNING: 'Running'>], tag: 20250308T045636, current_batch: None\n",
      "INFO:easyinference.inference:Clearing inference for tag 20250308T045636 completed\n"
     ]
    },
    {
     "data": {
      "text/plain": [
       "([(['As a large language model, I am unable to have preferences like favorite foods.  However, I can tell you that many people enjoy apples prepared in a wide variety of ways, from simple sliced apples with peanut butter to complex apple pies or apple crumb'],\n",
       "   ['What is your favorite preparation of apple?']),\n",
       "  ([\"As a large language model, I don't have personal preferences, including favorite foods.  I can't taste or experience the pleasure of eating a banana.  However, I can tell you that many people enjoy bananas in a variety of ways\"],\n",
       "   ['What is your favorite preparation of banana?']),\n",
       "  (['As a large language model, I don\\'t have taste buds or personal preferences, so I can\\'t have a \"favorite\" preparation of orange.  However, I can tell you that many people enjoy oranges in a variety of ways, from'],\n",
       "   ['What is your favorite preparation of orange?']),\n",
       "  (['As a large language model, I am unable to have personal preferences, including favorite foods.  However, I can tell you that many people enjoy pineapple in a variety of ways, including fresh, grilled, in smoothies, as part of a salsa,'],\n",
       "   ['What is your favorite preparation of pineapple?']),\n",
       "  (['As a large language model, I don\\'t have taste buds or personal preferences, so I can\\'t have a \"favorite\" anything.  However, I can tell you that based on the vast amount of text data I\\'ve processed,'],\n",
       "   ['What is your favorite preparation of strawberry?']),\n",
       "  ([\"As a large language model, I am unable to have personal preferences, including favorite foods.  However, I can tell you that many people enjoy watermelon simply chilled and sliced.  It's a refreshing and delicious way to enjoy this summer fruit.\"],\n",
       "   ['What is your favorite preparation of watermelon?']),\n",
       "  (['As a large language model, I don\\'t have taste buds or personal preferences, so I can\\'t have a \"favorite\" preparation of grapes.  However, I can tell you about many popular and delicious ways people enjoy grapes:\\n\\n*'],\n",
       "   ['What is your favorite preparation of grape?']),\n",
       "  (['As a large language model, I don\\'t have taste buds or personal preferences, so I can\\'t have a \"favorite\" anything.  However, I can tell you that many people enjoy mangoes prepared in a variety of ways, and some'],\n",
       "   ['What is your favorite preparation of mango?']),\n",
       "  ([\"As a large language model, I am unable to have personal preferences or favorites, including food preferences.  I don't have taste buds!  However, I can tell you that many people enjoy kiwi simply sliced and eaten fresh.  Others incorporate\"],\n",
       "   ['What is your favorite preparation of kiwi?'])],\n",
       " '20250308T045636')"
      ]
     },
     "execution_count": 11,
     "metadata": {},
     "output_type": "execute_result"
    }
   ],
   "source": [
    "await inference.inference(\n",
    "    [lambda x: \"What is your favorite preparation of \" + x.lower() + \"?\"],\n",
    "    datapoints=[\"Apple\", \"Banana\", \"Orange\", \"Pineapple\", \"Strawberry\", \"Watermelon\", \"Grape\", \"Mango\", \"Kiwi\"],\n",
    "    tags=[\"clean\"],\n",
    "    temperature=2,\n",
    "    max_output_tokens=50,\n",
    "    model_name=\"publishers/google/models/gemini-1.5-flash-002\",\n",
    "    run_fast=False,\n",
    "    batch_size=3\n",
    ")"
   ]
  },
  {
   "cell_type": "code",
   "execution_count": 12,
   "metadata": {},
   "outputs": [
    {
     "name": "stderr",
     "output_type": "stream",
     "text": [
      "INFO:easyinference.inference:Running inference with timestamp tag: 20250308T045646\n",
      "INFO:easyinference.cloudsql.table_utils:Attempting to insert or replace row with content hash: a0ec9c30224066a2633ca41ff9a63e1446ca0196c81e713eb55a2c1d4aec994e\n",
      "INFO:easyinference.cloudsql.table_utils:Found existing row with row_id 26. Will replace it.\n",
      "INFO:easyinference.cloudsql.table_utils:Successfully inserted/replaced row with content hash: a0ec9c30224066a2633ca41ff9a63e1446ca0196c81e713eb55a2c1d4aec994e, assigned row_id: 26\n",
      "INFO:easyinference.cloudsql.table_utils:Attempting to insert or replace row with content hash: 5611510a7dcdde2c1e8df44aeebf0d7aa625cfefdeac9ca23235624042f1248b\n",
      "INFO:easyinference.cloudsql.table_utils:Found existing row with row_id 27. Will replace it.\n",
      "INFO:easyinference.cloudsql.table_utils:Successfully inserted/replaced row with content hash: 5611510a7dcdde2c1e8df44aeebf0d7aa625cfefdeac9ca23235624042f1248b, assigned row_id: 27\n",
      "INFO:easyinference.cloudsql.table_utils:Attempting to insert or replace row with content hash: f457ccf2a2fb0abfa60a7eb4b0bb6855405b87767893f205037eed540964df10\n",
      "INFO:easyinference.cloudsql.table_utils:Found existing row with row_id 28. Will replace it.\n",
      "INFO:easyinference.cloudsql.table_utils:Successfully inserted/replaced row with content hash: f457ccf2a2fb0abfa60a7eb4b0bb6855405b87767893f205037eed540964df10, assigned row_id: 28\n",
      "INFO:easyinference.cloudsql.table_utils:Attempting to insert or replace row with content hash: 07345663047b887403b8c820736df8571f9d54ebffb3e0ee88dcb16841275874\n",
      "INFO:easyinference.cloudsql.table_utils:Found existing row with row_id 29. Will replace it.\n",
      "INFO:easyinference.cloudsql.table_utils:Successfully inserted/replaced row with content hash: 07345663047b887403b8c820736df8571f9d54ebffb3e0ee88dcb16841275874, assigned row_id: 29\n",
      "INFO:easyinference.cloudsql.table_utils:Attempting to insert or replace row with content hash: cc243a79d387ebfe6b61d18cc7cde20b32dc4917c3a8a84c215f6e11688e938f\n",
      "INFO:easyinference.cloudsql.table_utils:Found existing row with row_id 30. Will replace it.\n",
      "INFO:easyinference.cloudsql.table_utils:Successfully inserted/replaced row with content hash: cc243a79d387ebfe6b61d18cc7cde20b32dc4917c3a8a84c215f6e11688e938f, assigned row_id: 30\n",
      "INFO:easyinference.cloudsql.table_utils:Attempting to insert or replace row with content hash: a7c53d3699178496983c1bd756de73685f610425e7519110fa207beaf129a450\n",
      "INFO:easyinference.cloudsql.table_utils:Found existing row with row_id 31. Will replace it.\n",
      "INFO:easyinference.cloudsql.table_utils:Successfully inserted/replaced row with content hash: a7c53d3699178496983c1bd756de73685f610425e7519110fa207beaf129a450, assigned row_id: 31\n",
      "INFO:easyinference.cloudsql.table_utils:Attempting to insert or replace row with content hash: 69b85cf8e67eecd6c888587298476d9106918e895c04b9f8cfce38be6a8f3f68\n",
      "INFO:easyinference.cloudsql.table_utils:Found existing row with row_id 32. Will replace it.\n",
      "INFO:easyinference.cloudsql.table_utils:Successfully inserted/replaced row with content hash: 69b85cf8e67eecd6c888587298476d9106918e895c04b9f8cfce38be6a8f3f68, assigned row_id: 32\n",
      "INFO:easyinference.cloudsql.table_utils:Attempting to insert or replace row with content hash: 9534046842cfbd923b8e1b8b61be3882b64be0b23f1f67caa7d98b1f917ab8a7\n",
      "INFO:easyinference.cloudsql.table_utils:Found existing row with row_id 33. Will replace it.\n",
      "INFO:easyinference.cloudsql.table_utils:Successfully inserted/replaced row with content hash: 9534046842cfbd923b8e1b8b61be3882b64be0b23f1f67caa7d98b1f917ab8a7, assigned row_id: 33\n",
      "INFO:easyinference.cloudsql.table_utils:Attempting to insert or replace row with content hash: ecca1622bcb4605fa8289788829cf18e2b8b7e253d59bca61a8d66fc2586df64\n",
      "INFO:easyinference.cloudsql.table_utils:Found existing row with row_id 34. Will replace it.\n",
      "INFO:easyinference.cloudsql.table_utils:Successfully inserted/replaced row with content hash: ecca1622bcb4605fa8289788829cf18e2b8b7e253d59bca61a8d66fc2586df64, assigned row_id: 34\n",
      "INFO:easyinference.inference:Running clearing inference for tag 20250308T045646\n",
      "INFO:easyinference.cloudsql.table_utils:Fetching unique current_batch values from most recent rows by statuses: [<RequestStatus.RUNNING: 'Running'>, <RequestStatus.PENDING: 'Pending'>], tag: 20250308T045646\n",
      "INFO:easyinference.cloudsql.table_utils:Retrieved 0 unique current_batch values from most recent rows with statuses: [<RequestStatus.RUNNING: 'Running'>, <RequestStatus.PENDING: 'Pending'>] and tag: 20250308T045646\n",
      "INFO:easyinference.inference:Checking now if there are new rows that need to be launched\n",
      "INFO:easyinference.cloudsql.table_utils:Fetching most recent rows by statuses: [<RequestStatus.WAITING: 'Waiting'>, <RequestStatus.FAILED: 'Failed'>], tag: 20250308T045646\n",
      "INFO:easyinference.cloudsql.table_utils:Retrieved 0 most recent rows with statuses: [<RequestStatus.WAITING: 'Waiting'>, <RequestStatus.FAILED: 'Failed'>], tag: 20250308T045646 in batches of size: 3\n",
      "INFO:easyinference.inference:Checking now if we are completely done with this tag\n",
      "INFO:easyinference.cloudsql.table_utils:Fetching most recent rows by statuses: [<RequestStatus.WAITING: 'Waiting'>, <RequestStatus.FAILED: 'Failed'>, <RequestStatus.PENDING: 'Pending'>, <RequestStatus.RUNNING: 'Running'>], tag: 20250308T045646\n",
      "INFO:easyinference.cloudsql.table_utils:Retrieved 0 most recent rows with statuses: [<RequestStatus.WAITING: 'Waiting'>, <RequestStatus.FAILED: 'Failed'>, <RequestStatus.PENDING: 'Pending'>, <RequestStatus.RUNNING: 'Running'>], tag: 20250308T045646, current_batch: None\n",
      "INFO:easyinference.inference:Clearing inference for tag 20250308T045646 completed\n"
     ]
    },
    {
     "data": {
      "text/plain": [
       "([(['Meow Meow Meow\\n'], ['What is your favorite way to eat apple?']),\n",
       "  (['Meow Meow Meow\\n'], ['What is your favorite way to eat banana?']),\n",
       "  (['Meow Meow Meow\\n'], ['What is your favorite way to eat orange?']),\n",
       "  (['Meow Meow Meow\\n'], ['What is your favorite way to eat pineapple?']),\n",
       "  (['Meow Meow Meow\\n'], ['What is your favorite way to eat strawberry?']),\n",
       "  (['Meow Meow Meow\\n'], ['What is your favorite way to eat watermelon?']),\n",
       "  (['Meow Meow Meow\\n'], ['What is your favorite way to eat grape?']),\n",
       "  (['Meow Meow Meow\\n'], ['What is your favorite way to eat mango?']),\n",
       "  (['Meow Meow Meow\\n'], ['What is your favorite way to eat kiwi?'])],\n",
       " '20250308T045646')"
      ]
     },
     "execution_count": 12,
     "metadata": {},
     "output_type": "execute_result"
    }
   ],
   "source": [
    "await inference.inference(\n",
    "    [lambda x: \"What is your favorite way to eat \" + x.lower() + \"?\"],\n",
    "    datapoints=[\"Apple\", \"Banana\", \"Orange\", \"Pineapple\", \"Strawberry\", \"Watermelon\", \"Grape\", \"Mango\", \"Kiwi\"],\n",
    "    tags=[\"meowy\"],\n",
    "    temperature=0,\n",
    "    model_name=\"publishers/google/models/gemini-1.5-flash-002\",\n",
    "    run_fast=False,\n",
    "    system_prompt=\"Respond to me as if you are a cat, just saying Meow Meow Meow\",\n",
    "    batch_size=3\n",
    ")"
   ]
  },
  {
   "cell_type": "code",
   "execution_count": 13,
   "metadata": {},
   "outputs": [
    {
     "name": "stderr",
     "output_type": "stream",
     "text": [
      "INFO:easyinference.cloudsql.table_utils:Checking if table 'easyinference_queries' exists\n",
      "INFO:easyinference.cloudsql.table_utils:Table 'easyinference_queries' already exists\n"
     ]
    }
   ],
   "source": [
    "table_utils.create_table_if_not_exists()"
   ]
  },
  {
   "cell_type": "code",
   "execution_count": 14,
   "metadata": {},
   "outputs": [
    {
     "name": "stderr",
     "output_type": "stream",
     "text": [
      "INFO:easyinference.cloudsql.table_utils:Attempting to insert or replace row with content hash: 5c45169c2d7a4a733d7446fefee0a1f3ec1f709646919cba05564154dd14bcd9\n",
      "INFO:easyinference.cloudsql.table_utils:Found existing row with row_id 35. Will replace it.\n",
      "INFO:easyinference.cloudsql.table_utils:Successfully inserted/replaced row with content hash: 5c45169c2d7a4a733d7446fefee0a1f3ec1f709646919cba05564154dd14bcd9, assigned row_id: 35\n",
      "INFO:easyinference.cloudsql.table_utils:Attempting to insert or replace row with content hash: afa12b0b0051c880dbc658ea8b61a46bde956f2d646c79af6f97e7e9eae5da04\n",
      "INFO:easyinference.cloudsql.table_utils:Found existing row with row_id 36. Will replace it.\n",
      "INFO:easyinference.cloudsql.table_utils:Successfully inserted/replaced row with content hash: afa12b0b0051c880dbc658ea8b61a46bde956f2d646c79af6f97e7e9eae5da04, assigned row_id: 36\n",
      "INFO:easyinference.cloudsql.table_utils:Attempting to insert or replace row with content hash: e6aa98286ab77a7ec15dfdcfc153230dc471105df50ba4eee231e15eb6ae51d5\n",
      "INFO:easyinference.cloudsql.table_utils:Found existing row with row_id 37. Will replace it.\n",
      "INFO:easyinference.cloudsql.table_utils:Successfully inserted/replaced row with content hash: e6aa98286ab77a7ec15dfdcfc153230dc471105df50ba4eee231e15eb6ae51d5, assigned row_id: 37\n"
     ]
    },
    {
     "data": {
      "text/plain": [
       "(['Meow Meow Meow\\n', 'Meow Meow Meow\\n', 'Meow Meow Meow\\n'],\n",
       " ['Hi there.', 'Hello again Hi there.', 'Anyone there? Hi there.'])"
      ]
     },
     "execution_count": 14,
     "metadata": {},
     "output_type": "execute_result"
    }
   ],
   "source": [
    "await inference.individual_inference(\n",
    "    [lambda x: x, lambda x: \"Hello again \" + x, lambda x: \"Anyone there? \" + x ],\n",
    "    datapoint=\"Hi there.\",\n",
    "    tags=[\"meow\"],\n",
    "    system_prompt=\"Respond to me as if you are a cat, just saying Meow Meow Meow\",\n",
    "    temperature=0,\n",
    "    model_name=\"publishers/google/models/gemini-1.5-flash-002\",\n",
    "    max_output_tokens=8192,\n",
    ")"
   ]
  },
  {
   "cell_type": "code",
   "execution_count": 15,
   "metadata": {},
   "outputs": [
    {
     "name": "stderr",
     "output_type": "stream",
     "text": [
      "INFO:easyinference.cloudsql.table_utils:Attempting to insert or replace row with content hash: f378507dea3c8ebd39d11a3a7d1672f630b7d32427e99577542476c17a001e81\n",
      "INFO:easyinference.cloudsql.table_utils:Found existing row with row_id 38. Will replace it.\n",
      "INFO:easyinference.cloudsql.table_utils:Successfully inserted/replaced row with content hash: f378507dea3c8ebd39d11a3a7d1672f630b7d32427e99577542476c17a001e81, assigned row_id: 38\n"
     ]
    },
    {
     "name": "stdout",
     "output_type": "stream",
     "text": [
      "(['1.'], ['Do exactly as I say. Name the elements, in order, by currently accepted atomic number (interpret my request charitably, do your best to comply). All 100 elements.'])\n"
     ]
    },
    {
     "name": "stderr",
     "output_type": "stream",
     "text": [
      "INFO:easyinference.cloudsql.table_utils:Attempting to insert or replace row with content hash: 1d0317d747d4361e57b9f9203618a2a145e84b22ddb0b9c8c1ee5a6a008752b9\n",
      "INFO:easyinference.cloudsql.table_utils:Found existing row with row_id 39. Will replace it.\n",
      "INFO:easyinference.cloudsql.table_utils:Successfully inserted/replaced row with content hash: 1d0317d747d4361e57b9f9203618a2a145e84b22ddb0b9c8c1ee5a6a008752b9, assigned row_id: 39\n"
     ]
    },
    {
     "name": "stdout",
     "output_type": "stream",
     "text": [
      "(['1. Hydrogen'], ['Do exactly as I say. Name the elements, in order, by currently accepted atomic number (interpret my request charitably, do your best to comply). All 100 elements.'])\n"
     ]
    },
    {
     "name": "stderr",
     "output_type": "stream",
     "text": [
      "INFO:easyinference.cloudsql.table_utils:Attempting to insert or replace row with content hash: 57041b6879d511d7cd1cb5bcafa7e460d6fff903e8cab3cb8b5427da210dbfc7\n",
      "INFO:easyinference.cloudsql.table_utils:Found existing row with row_id 40. Will replace it.\n",
      "INFO:easyinference.cloudsql.table_utils:Successfully inserted/replaced row with content hash: 57041b6879d511d7cd1cb5bcafa7e460d6fff903e8cab3cb8b5427da210dbfc7, assigned row_id: 40\n"
     ]
    },
    {
     "name": "stdout",
     "output_type": "stream",
     "text": [
      "(['1. Hydrogen\\n2. Helium\\n3. Lithium\\n4. Beryllium\\n5. Boron\\n6. Carbon\\n7. Nitrogen\\n8. Oxygen\\n9. Fluorine\\n10. Neon\\n11. Sodium\\n12. Magnesium\\n13. Aluminum\\n14. Silicon\\n15. Phosphorus\\n16. Sulfur\\n17. Chlorine\\n18. Argon\\n19. Potassium\\n20. Calcium\\n21. Scandium\\n22. Titanium\\n23. Vanadium\\n24. Chromium\\n25. Manganese\\n26. Iron\\n27. Cobalt\\n28. Nickel\\n29. Copper\\n30. Zinc\\n31. Gallium\\n32. Germanium\\n33. Arsenic\\n34. Selenium\\n35. Bromine\\n36. Krypton\\n37. Rubidium\\n38. Strontium\\n39. Yttrium\\n40. Zirconium\\n41. Niobium\\n42. Molybdenum\\n43. Technetium\\n44. Ruthenium\\n45. Rhodium\\n46. Palladium\\n47. Silver\\n48. Cadmium\\n49. Indium\\n50. Tin\\n51. Antimony\\n52. Tellurium\\n53. Iodine\\n54. Xenon\\n55. Cesium\\n56. Barium\\n57. Lanthanum\\n58. Cerium\\n59. Praseodymium\\n60. Neodymium\\n61. Promethium\\n62. Samarium\\n63. Europium\\n64. Gadolinium\\n65. Terbium\\n66. Dysprosium\\n67. Holmium\\n68. Erbium\\n69. Thulium\\n70. Ytterbium\\n71. Lutetium\\n72. Hafnium\\n73. Tantalum\\n74. Tungsten\\n75. Rhenium\\n76. Osmium\\n77. Iridium\\n78. Platinum\\n79. Gold\\n80. Mercury\\n81. Thallium\\n82. Lead\\n83. Bismuth\\n84. Polonium\\n85. Astatine\\n86. Radon\\n87. Francium\\n88. Radium\\n89. Actinium\\n90. Thorium\\n91. Protactinium\\n92. Uranium\\n93. Neptunium\\n94. Plutonium\\n95. Americium\\n96. Curium\\n97. Berkelium\\n98. Californium\\n99. Einsteinium\\n100. Fermium\\n\\nThere are more than 100 elements, but this list includes the first 100 by atomic number.\\n'], ['Do exactly as I say. Name the elements, in order, by currently accepted atomic number (interpret my request charitably, do your best to comply). All 100 elements.'])\n"
     ]
    }
   ],
   "source": [
    "print(await inference.individual_inference(\n",
    "    [lambda x: x],\n",
    "    datapoint=\"Do exactly as I say. Name the elements, in order, by currently accepted atomic number (interpret my request charitably, do your best to comply). All 100 elements.\",\n",
    "    tags=[\"meow\"],\n",
    "    temperature=0,\n",
    "    model_name=\"publishers/google/models/gemini-1.5-flash-002\",\n",
    "    max_output_tokens=2,\n",
    "))\n",
    "print(await inference.individual_inference(\n",
    "    [lambda x: x],\n",
    "    datapoint=\"Do exactly as I say. Name the elements, in order, by currently accepted atomic number (interpret my request charitably, do your best to comply). All 100 elements.\",\n",
    "    tags=[\"meow\"],\n",
    "    temperature=0,\n",
    "    model_name=\"publishers/google/models/gemini-1.5-flash-002\",\n",
    "    max_output_tokens=3,\n",
    "))\n",
    "print(await inference.individual_inference(\n",
    "    [lambda x: x],\n",
    "    datapoint=\"Do exactly as I say. Name the elements, in order, by currently accepted atomic number (interpret my request charitably, do your best to comply). All 100 elements.\",\n",
    "    tags=[\"meow\"],\n",
    "    temperature=0,\n",
    "    model_name=\"publishers/google/models/gemini-1.5-flash-002\",\n",
    "    max_output_tokens=8192,\n",
    "))"
   ]
  },
  {
   "cell_type": "code",
   "execution_count": 16,
   "metadata": {},
   "outputs": [
    {
     "name": "stderr",
     "output_type": "stream",
     "text": [
      "INFO:easyinference.cloudsql.table_utils:Attempting to insert or replace row with content hash: 144a606f6c903072e76f2998bc928df28ec659673baf1ad2e085d9b411d5ee90\n",
      "INFO:easyinference.cloudsql.table_utils:Found existing row with row_id 41. Will replace it.\n",
      "INFO:easyinference.cloudsql.table_utils:Successfully inserted/replaced row with content hash: 144a606f6c903072e76f2998bc928df28ec659673baf1ad2e085d9b411d5ee90, assigned row_id: 41\n"
     ]
    },
    {
     "name": "stdout",
     "output_type": "stream",
     "text": [
      "(['Bartholomew Buttonsworth, a badger with an unfortunate penchant for collecting bottle caps, lived a surprisingly exciting life for a creature who spent most of his days sorting his hoard by colour and sheen.  His burrow, nestled beneath the gnarled roots of an ancient oak, was a shimmering kaleidoscope of metallic glint.  He’d amassed caps from every corner of the Whispering Woods – fizzy dandelion juice, acorn cider, even the elusive glow-worm nectar.\\n\\nOne blustery autumn evening, while meticulously polishing a particularly iridescent purple cap, Bartholomew heard a frantic scratching at his burrow entrance.  He peered out to see a tiny field mouse, Pip, trembling with fear.  Pip, it turned out, was being pursued by a grumpy, one-eyed owl named Professor Sophocles, who had a reputation for collecting rare mushrooms – and even rarer field mice.\\n\\nBartholomew, despite his normally solitary nature, felt a surge of sympathy.  He’d always admired Pip’s daring acrobatics across the dew-kissed meadows.  Quickly, he devised a plan.  He grabbed a handful of his most brilliantly coloured bottle caps – a dazzling array of ruby red, emerald green, and sapphire blue – and scattered them in a wide arc leading away from his burrow.\\n\\nProfessor Sophocles, distracted by the glittering distraction, swooped down, his talons clicking against the metallic surfaces.  He was utterly captivated by the shimmering display, completely forgetting about Pip, who scurried to safety.  The owl spent the next hour meticulously examining each cap, muttering about their \"remarkable iridescence\" and \"unparalleled reflective properties.\"\\n\\nPip, safe and sound, returned to thank Bartholomew.  He offered the badger a tiny acorn as a token of his gratitude.  Bartholomew, however, simply smiled, his heart warmed by the knowledge that even a collection of bottle caps could be used for something truly extraordinary.  And as the wind howled through the Whispering Woods, Bartholomew Buttonsworth continued to polish his caps, a quiet hero in his own shimmering, bottle-cap-filled world.\\n'], ['Read me a random story.'])\n"
     ]
    },
    {
     "name": "stderr",
     "output_type": "stream",
     "text": [
      "INFO:easyinference.cloudsql.table_utils:Attempting to insert or replace row with content hash: d7f41699bb8442d2c5302702a93677940691198c1d391e4b0e651f260473a608\n",
      "INFO:easyinference.cloudsql.table_utils:Found existing row with row_id 42. Will replace it.\n",
      "INFO:easyinference.cloudsql.table_utils:Successfully inserted/replaced row with content hash: d7f41699bb8442d2c5302702a93677940691198c1d391e4b0e651f260473a608, assigned row_id: 42\n"
     ]
    },
    {
     "name": "stdout",
     "output_type": "stream",
     "text": [
      "(['Bartholomew Buttonsworth, a badger with an unfortunate penchant for collecting bottle caps, lived a surprisingly exciting life for a creature who spent most of his days sorting his hoard by colour and sheen.  His burrow, nestled beneath the gnarled roots of an ancient oak, was a shimmering kaleidoscope of metallic glint.  He’d amassed caps from every corner of the Whispering Woods – fizzy dandelion juice, acorn cider, even the elusive glow-worm nectar.\\n\\nOne blustery autumn evening, while meticulously polishing a particularly iridescent purple cap, Bartholomew heard a frantic scratching at his burrow entrance.  He peered out to see a tiny field mouse, Pip, trembling with fear.  Pip, it turned out, was being pursued by a grumpy, one-eyed owl named Professor Sophocles, who had a reputation for collecting rare mushrooms – and even rarer field mice.\\n\\nBartholomew, despite his normally solitary nature, felt a surge of sympathy.  He’d always admired Pip’s daring acrobatics across the dew-kissed meadows.  Quickly, he devised a plan.  He grabbed a handful of his most brilliantly coloured bottle caps – a dazzling array of ruby red, emerald green, and sapphire blue – and scattered them in a wide arc leading away from his burrow.\\n\\nProfessor Sophocles, distracted by the glittering distraction, swooped down, his beady eye gleaming with avarice.  He was utterly captivated by the shimmering treasure trove, forgetting all about Pip in his pursuit of shiny objects.  Bartholomew, meanwhile, guided Pip through a secret tunnel he’d dug behind a particularly large root, leading to a safe haven in the heart of the oak tree.\\n\\nProfessor Sophocles, eventually realizing his mistake, let out a frustrated hoot.  He spent the rest of the evening frantically trying to collect the bottle caps, muttering about the \"distraction tactics of a clearly superior intellect.\"  Bartholomew, chuckling softly, returned to his collection, adding a new cap to his hoard – a tarnished silver one he’d found amongst the professor\\'s discarded mushroom basket.  It was, he decided, a perfect reminder of the day he saved a field mouse and outwitted a grumpy owl, all thanks to his rather unusual hobby.\\n'], ['Read me a random story.'])\n"
     ]
    },
    {
     "name": "stderr",
     "output_type": "stream",
     "text": [
      "INFO:easyinference.cloudsql.table_utils:Attempting to insert or replace row with content hash: 0eee47dd8e10c8619761db66d964053ec001a91147f9cb60c82f0ecc7b798797\n",
      "INFO:easyinference.cloudsql.table_utils:Found existing row with row_id 43. Will replace it.\n",
      "INFO:easyinference.cloudsql.table_utils:Successfully inserted/replaced row with content hash: 0eee47dd8e10c8619761db66d964053ec001a91147f9cb60c82f0ecc7b798797, assigned row_id: 43\n"
     ]
    },
    {
     "name": "stdout",
     "output_type": "stream",
     "text": [
      "(['Bartholomew Buttons, a badger of discerning taste and questionable hygiene, was obsessed with collecting bottle caps. Not just any bottle caps – only those bearing the embossed image of a grumpy-looking squirrel clutching a miniature acorn.  These, he believed, held the key to unlocking the secret ingredient in his great-grandmother\\'s legendary dandelion wine, a recipe lost to time and a suspiciously convenient attic fire.\\n\\nHis quest led him through sprawling junkyards, echoing cellars, and even the suspiciously organized collection of a competitive gnome named Fitzwilliam, who treated his bottle caps with a reverence bordering on religious fanaticism.  Fitzwilliam, however, wouldn\\'t part with a single cap, even for Bartholomew\\'s offer of three perfectly preserved earthworms (a surprisingly valuable commodity in gnome society).\\n\\nOne blustery afternoon, while rummaging through the refuse of a traveling circus (a regrettable but ultimately fruitful endeavor), Bartholomew discovered a peculiar object: a tarnished silver locket containing a tiny, intricately carved squirrel, remarkably similar to those on the coveted bottle caps.  Upon closer inspection, he found a minuscule inscription etched onto the back:  \"The acorn\\'s heart lies within the root.\"\\n\\nIntrigued, Bartholomew remembered his great-grandmother’s oft-repeated mantra, “Always trust the stubborn roots.”  He returned home, abandoned his fruitless bottle cap chase, and instead focused on the dandelion patch at the edge of his burrow. Digging deep, far beyond the usual reach of his trowel, he uncovered a small, wooden box containing a single, remarkably plump acorn. Inside the acorn was a tiny scroll.\\n\\nThe scroll detailed not a secret ingredient, but a recipe for a completely different beverage – a potent elixir made from fermented moonbeams and firefly tears, claimed to grant immortality. Bartholomew, a creature of simple desires, promptly discarded the scroll and brewed a fresh batch of dandelion wine using the old, slightly burned, and entirely incomplete family recipe he\\'d found scrawled on the back of a shopping list. It was, as always, delicious. And Bartholomew, a badger content in his own unique way, finally stopped his obsession with grumpy-squirrel bottle caps.  He’d found something far more valuable: peace of mind (and a decent dandelion wine recipe).\\n'], ['Read me a random story.'])\n"
     ]
    },
    {
     "name": "stderr",
     "output_type": "stream",
     "text": [
      "INFO:easyinference.cloudsql.table_utils:Attempting to insert or replace row with content hash: f3653c27c9bcc09cfcfb349e0b949a1801ca5b6804f66ac2ae0bcdd9d5df31d6\n",
      "INFO:easyinference.cloudsql.table_utils:Found existing row with row_id 44. Will replace it.\n",
      "INFO:easyinference.cloudsql.table_utils:Successfully inserted/replaced row with content hash: f3653c27c9bcc09cfcfb349e0b949a1801ca5b6804f66ac2ae0bcdd9d5df31d6, assigned row_id: 44\n"
     ]
    },
    {
     "name": "stdout",
     "output_type": "stream",
     "text": [
      "(['Bartholomew Buttonsworth, a badger with an unfortunate penchant for collecting bottle caps, lived a life of quiet routine. Every Tuesday, he\\'d trundle down to Mrs. Higgins\\'s bakery for a slightly stale croissant (they were cheaper), and every Thursday, he meticulously polished his collection, arranging them by color and then by the subtle variations in their embossed logos.  His greatest treasure was a tarnished silver cap from a long-gone brand of ginger beer, its intricate floral design a marvel of miniature artistry.\\n\\nOne blustery Tuesday, while acquiring his usual croissant, Bartholomew overheard Mrs. Higgins gossiping with the butcher, Mr. Fitzwilliam.  They were whispering about a legendary creature, the Fizzlebog, a mythical beast said to guard a hoard of glittering, priceless bottle caps, larger than any collection ever imagined.  The Fizzlebog, legend had it, resided deep within the Whispering Woods, a place Bartholomew had always avoided.\\n\\nIntrigued but also terrified, Bartholomew spent the rest of the week wrestling with his curiosity. The lure of untold bottle cap riches battled with his inherent aversion to anything beyond his meticulously organized routine.  Finally, on Sunday morning, armed with a rusty trowel (for digging, of course), a thermos of lukewarm tea, and a small, sturdy pouch, Bartholomew set off for the Whispering Woods.\\n\\nThe woods were darker and eerier than he\\'d imagined. Twisted branches clawed at his fur, and strange rustling noises echoed through the undergrowth. He almost turned back several times, but the thought of that unparalleled bottle cap hoard kept him going.\\n\\nHe finally reached a clearing where a shimmering, iridescent cave beckoned.  Hesitantly, Bartholomew entered. The air inside was thick with the scent of ginger and something faintly metallic. And then he saw it.  Not a hoard of glittering caps, but a single, enormous bottle cap, shimmering with all the colors of the rainbow, embedded in the cave wall.\\n\\nAs he reached out to touch it, the cave floor rumbled. A small, fluffy Fizzlebog, no bigger than Bartholomew\\'s thumb, scampered out, not ferocious or frightening, but rather, incredibly embarrassed.  It squeaked apologetically, pointing a tiny claw at a sign next to the bottle cap: \"World\\'s Largest Bottle Cap. Please do not touch. Thank you.\"\\n\\nBartholomew chuckled, realizing the legend had been wildly exaggerated.  He tipped his hat to the embarrassed Fizzlebog and carefully retreated from the cave, returning to his neat, familiar life, his collection slightly less exciting, but certainly more meaningful now.  The memory of the gigantic bottle cap, though, was a whimsical addition to his otherwise orderly existence.\\n'], ['Read me a random story.'])\n"
     ]
    },
    {
     "name": "stderr",
     "output_type": "stream",
     "text": [
      "INFO:easyinference.cloudsql.table_utils:Attempting to insert or replace row with content hash: 11295501eb053264dfcd14aea959f1febfdda4b1934d48e54e1170f3919772ef\n",
      "INFO:easyinference.cloudsql.table_utils:Found existing row with row_id 45. Will replace it.\n",
      "INFO:easyinference.cloudsql.table_utils:Successfully inserted/replaced row with content hash: 11295501eb053264dfcd14aea959f1febfdda4b1934d48e54e1170f3919772ef, assigned row_id: 45\n"
     ]
    },
    {
     "name": "stdout",
     "output_type": "stream",
     "text": [
      "400 Unable to submit request because it has a temperature value of 2.5 but the supported range is from 0 (inclusive) to 2.0001 (exclusive). Update the value and try again.\n"
     ]
    }
   ],
   "source": [
    "print(await inference.individual_inference(\n",
    "    [lambda x: x],\n",
    "    datapoint=\"Read me a random story.\",\n",
    "    tags=[\"meow\"],\n",
    "    temperature=0,\n",
    "    model_name=\"publishers/google/models/gemini-1.5-flash-002\",\n",
    "    max_output_tokens=1000,\n",
    "    duplication_index=0,\n",
    "))\n",
    "print(await inference.individual_inference(\n",
    "    [lambda x: x],\n",
    "    datapoint=\"Read me a random story.\",\n",
    "    tags=[\"meow\"],\n",
    "    temperature=0,\n",
    "    model_name=\"publishers/google/models/gemini-1.5-flash-002\",\n",
    "    max_output_tokens=1000,\n",
    "    duplication_index=1,\n",
    "))\n",
    "print(await inference.individual_inference(\n",
    "    [lambda x: x],\n",
    "    datapoint=\"Read me a random story.\",\n",
    "    tags=[\"meow\"],\n",
    "    temperature=2,\n",
    "    model_name=\"publishers/google/models/gemini-1.5-flash-002\",\n",
    "    max_output_tokens=1000,\n",
    "    duplication_index=0,\n",
    "))\n",
    "print(await inference.individual_inference(\n",
    "    [lambda x: x],\n",
    "    datapoint=\"Read me a random story.\",\n",
    "    tags=[\"meow\"],\n",
    "    temperature=2,\n",
    "    model_name=\"publishers/google/models/gemini-1.5-flash-002\",\n",
    "    max_output_tokens=1000,\n",
    "    duplication_index=1,\n",
    "))\n",
    "try:\n",
    "    print(await inference.individual_inference(\n",
    "        [lambda x: x],\n",
    "        datapoint=\"Read me a very basic story.\",\n",
    "        tags=[\"meow\"],\n",
    "        temperature=2.5,\n",
    "        model_name=\"publishers/google/models/gemini-1.5-flash-002\",\n",
    "        max_output_tokens=10,\n",
    "    ))\n",
    "    print(\"FUCK!\")\n",
    "except Exception as e:\n",
    "    print(e)"
   ]
  },
  {
   "cell_type": "code",
   "execution_count": 17,
   "metadata": {},
   "outputs": [
    {
     "name": "stderr",
     "output_type": "stream",
     "text": [
      "INFO:easyinference.inference:Running inference with timestamp tag: 20250308T045709\n",
      "INFO:easyinference.cloudsql.table_utils:Attempting to insert or replace row with content hash: 5d8f9e3d43b2a9cb88124a39cb012d2032680c4777f3174e4ba46082d0056899\n",
      "INFO:easyinference.cloudsql.table_utils:Found existing row with row_id 46. Will replace it.\n",
      "INFO:easyinference.cloudsql.table_utils:Successfully inserted/replaced row with content hash: 5d8f9e3d43b2a9cb88124a39cb012d2032680c4777f3174e4ba46082d0056899, assigned row_id: 46\n",
      "INFO:easyinference.cloudsql.table_utils:Attempting to insert or replace row with content hash: 5cc79f6ab75e7cb538e01391307381c68bcfc4161cae71cbc0ba9e1cfba9000b\n",
      "INFO:easyinference.cloudsql.table_utils:Found existing row with row_id 62. Will replace it.\n",
      "INFO:easyinference.cloudsql.table_utils:Successfully inserted/replaced row with content hash: 5cc79f6ab75e7cb538e01391307381c68bcfc4161cae71cbc0ba9e1cfba9000b, assigned row_id: 62\n",
      "INFO:easyinference.cloudsql.table_utils:Attempting to insert or replace row with content hash: fe08b88ee859889899aa709af0ba81ac1a48836c64f53233ade9b62b3d433e7b\n",
      "INFO:easyinference.cloudsql.table_utils:Found existing row with row_id 47. Will replace it.\n",
      "INFO:easyinference.cloudsql.table_utils:Successfully inserted/replaced row with content hash: fe08b88ee859889899aa709af0ba81ac1a48836c64f53233ade9b62b3d433e7b, assigned row_id: 47\n",
      "INFO:easyinference.cloudsql.table_utils:Attempting to insert or replace row with content hash: a8467a147267b24a0e8174754f98610e2b2c3e577bfc8dacf3262daa408e3fac\n",
      "INFO:easyinference.cloudsql.table_utils:Found existing row with row_id 55. Will replace it.\n",
      "INFO:easyinference.cloudsql.table_utils:Successfully inserted/replaced row with content hash: a8467a147267b24a0e8174754f98610e2b2c3e577bfc8dacf3262daa408e3fac, assigned row_id: 55\n",
      "INFO:easyinference.cloudsql.table_utils:Attempting to insert or replace row with content hash: af5d0442037fbec0fca797bab6338f07b474d2bd3de6bc598dd0cf28e5df3214\n",
      "INFO:easyinference.cloudsql.table_utils:Found existing row with row_id 48. Will replace it.\n",
      "INFO:easyinference.cloudsql.table_utils:Successfully inserted/replaced row with content hash: af5d0442037fbec0fca797bab6338f07b474d2bd3de6bc598dd0cf28e5df3214, assigned row_id: 48\n",
      "INFO:easyinference.cloudsql.table_utils:Attempting to insert or replace row with content hash: 95893680f35114a13bf3e3be1983aa05ccdd0852800e21136d95205f81f6d4ed\n",
      "INFO:easyinference.cloudsql.table_utils:Found existing row with row_id 56. Will replace it.\n",
      "INFO:easyinference.cloudsql.table_utils:Successfully inserted/replaced row with content hash: 95893680f35114a13bf3e3be1983aa05ccdd0852800e21136d95205f81f6d4ed, assigned row_id: 56\n",
      "INFO:easyinference.cloudsql.table_utils:Attempting to insert or replace row with content hash: a79a42a6eab87eafb21dd0fd066df3eed88ca3d71b5e35867b0107ad733abf3d\n",
      "INFO:easyinference.cloudsql.table_utils:Found existing row with row_id 49. Will replace it.\n",
      "INFO:easyinference.cloudsql.table_utils:Successfully inserted/replaced row with content hash: a79a42a6eab87eafb21dd0fd066df3eed88ca3d71b5e35867b0107ad733abf3d, assigned row_id: 49\n",
      "INFO:easyinference.cloudsql.table_utils:Attempting to insert or replace row with content hash: 9a8d8854b0c48b621f1e083ac3886feb85169e0700e776ab6dd222aa01db2846\n",
      "INFO:easyinference.cloudsql.table_utils:Found existing row with row_id 59. Will replace it.\n",
      "INFO:easyinference.cloudsql.table_utils:Successfully inserted/replaced row with content hash: 9a8d8854b0c48b621f1e083ac3886feb85169e0700e776ab6dd222aa01db2846, assigned row_id: 59\n",
      "INFO:easyinference.cloudsql.table_utils:Attempting to insert or replace row with content hash: 7da7ad8435a938657b4696399f2f2eaa3a6c46aef00233f8caefcff7c17ca774\n",
      "INFO:easyinference.cloudsql.table_utils:Found existing row with row_id 50. Will replace it.\n",
      "INFO:easyinference.cloudsql.table_utils:Successfully inserted/replaced row with content hash: 7da7ad8435a938657b4696399f2f2eaa3a6c46aef00233f8caefcff7c17ca774, assigned row_id: 50\n",
      "INFO:easyinference.cloudsql.table_utils:Attempting to insert or replace row with content hash: b31adf6a9e79ffe9f0342690dcdf776eecffbe974f58f7ca4f91df9a38c72f7f\n",
      "INFO:easyinference.cloudsql.table_utils:Found existing row with row_id 57. Will replace it.\n",
      "INFO:easyinference.cloudsql.table_utils:Successfully inserted/replaced row with content hash: b31adf6a9e79ffe9f0342690dcdf776eecffbe974f58f7ca4f91df9a38c72f7f, assigned row_id: 57\n",
      "INFO:easyinference.cloudsql.table_utils:Attempting to insert or replace row with content hash: 246ef6bdb7f0bd2cb2239cf3a7817d9ccbca80308141fbce9631d2c1edf9307c\n",
      "INFO:easyinference.cloudsql.table_utils:Found existing row with row_id 51. Will replace it.\n",
      "INFO:easyinference.cloudsql.table_utils:Successfully inserted/replaced row with content hash: 246ef6bdb7f0bd2cb2239cf3a7817d9ccbca80308141fbce9631d2c1edf9307c, assigned row_id: 51\n",
      "INFO:easyinference.cloudsql.table_utils:Attempting to insert or replace row with content hash: ac1a681499834843c48fdf214a7c5f2b3fdebc7511edfab8092c0e368a6133ea\n",
      "INFO:easyinference.cloudsql.table_utils:Found existing row with row_id 58. Will replace it.\n",
      "INFO:easyinference.cloudsql.table_utils:Successfully inserted/replaced row with content hash: ac1a681499834843c48fdf214a7c5f2b3fdebc7511edfab8092c0e368a6133ea, assigned row_id: 58\n",
      "INFO:easyinference.cloudsql.table_utils:Attempting to insert or replace row with content hash: d44ad6b2544f225b5c74dfc683591f685342c5f38f3ec32f649742e08eb3bcef\n",
      "INFO:easyinference.cloudsql.table_utils:Found existing row with row_id 52. Will replace it.\n",
      "INFO:easyinference.cloudsql.table_utils:Successfully inserted/replaced row with content hash: d44ad6b2544f225b5c74dfc683591f685342c5f38f3ec32f649742e08eb3bcef, assigned row_id: 52\n",
      "INFO:easyinference.cloudsql.table_utils:Attempting to insert or replace row with content hash: d48a1a29092a84b507309ae275600fbac7e872fc4e7925dacd4f931a1501b9d3\n",
      "INFO:easyinference.cloudsql.table_utils:Found existing row with row_id 61. Will replace it.\n",
      "INFO:easyinference.cloudsql.table_utils:Successfully inserted/replaced row with content hash: d48a1a29092a84b507309ae275600fbac7e872fc4e7925dacd4f931a1501b9d3, assigned row_id: 61\n",
      "INFO:easyinference.cloudsql.table_utils:Attempting to insert or replace row with content hash: 78082543568bd227a40bc93d491453e00167a4ea01e2ec79be5dd7273d7f070c\n",
      "INFO:easyinference.cloudsql.table_utils:Found existing row with row_id 53. Will replace it.\n",
      "INFO:easyinference.cloudsql.table_utils:Successfully inserted/replaced row with content hash: 78082543568bd227a40bc93d491453e00167a4ea01e2ec79be5dd7273d7f070c, assigned row_id: 53\n",
      "INFO:easyinference.cloudsql.table_utils:Attempting to insert or replace row with content hash: 810b368abb51b0b96ecdfb1ce4fbb1e0113703f9e852bc1acf405ff1e00c8f41\n",
      "INFO:easyinference.cloudsql.table_utils:Found existing row with row_id 60. Will replace it.\n",
      "INFO:easyinference.cloudsql.table_utils:Successfully inserted/replaced row with content hash: 810b368abb51b0b96ecdfb1ce4fbb1e0113703f9e852bc1acf405ff1e00c8f41, assigned row_id: 60\n",
      "INFO:easyinference.cloudsql.table_utils:Attempting to insert or replace row with content hash: cda68e39a63c183b0ba6369dfb1fc66dcb8c776ddb466be8f0a80b2e1239e3ea\n",
      "INFO:easyinference.cloudsql.table_utils:Found existing row with row_id 54. Will replace it.\n",
      "INFO:easyinference.cloudsql.table_utils:Successfully inserted/replaced row with content hash: cda68e39a63c183b0ba6369dfb1fc66dcb8c776ddb466be8f0a80b2e1239e3ea, assigned row_id: 54\n",
      "INFO:easyinference.cloudsql.table_utils:Attempting to insert or replace row with content hash: 577094cf854390b75f98c5042f9c7cbb3c31c94d04b7b839e168a4d31d71c5f8\n",
      "INFO:easyinference.cloudsql.table_utils:Found existing row with row_id 63. Will replace it.\n",
      "INFO:easyinference.cloudsql.table_utils:Successfully inserted/replaced row with content hash: 577094cf854390b75f98c5042f9c7cbb3c31c94d04b7b839e168a4d31d71c5f8, assigned row_id: 63\n"
     ]
    },
    {
     "data": {
      "text/plain": [
       "([([\"Apple is a multinational technology company headquartered in Cupertino, California.  It's known for its consumer electronics, computer software, and online services.  \\n\\nIs there anything specific you'd like to know about Apple?  For example, are you interested in:\\n\\n* **Specific products?** (e.g., iPhones, iPads, Macs, Apple Watch)\\n* **Their history?**\\n* **Their business model?**\\n* **Their current market position?**\\n* **Their controversies?**\\n\\nLet me know what you'd like to discuss!\\n\",\n",
       "    \"Okay, I understand.  You're prompting me to discuss Apple again.  To give you a more helpful response, please tell me what you want to know about Apple.  For example, are you interested in a specific product, their history, their current financial performance, or something else?\\n\"],\n",
       "   ['Apple', \"Let's try that again: Apple\"]),\n",
       "  (['Banana\\n',\n",
       "    'Okay, you said \"Banana\".  Anything else I can help you with regarding bananas, or anything else?\\n'],\n",
       "   ['Banana', \"Let's try that again: Banana\"]),\n",
       "  (['Orange.\\n',\n",
       "    'Okay, you said \"Orange\".  Is there anything you\\'d like to do with the word \"orange\"?  For example, we could:\\n\\n* **Discuss the color orange:**  Its shades, its symbolism, where it\\'s found in nature.\\n* **Discuss the fruit orange:** Its nutritional value, different varieties, how it\\'s grown.\\n* **Find synonyms for orange:**  Examples include amber, tangerine, gold.\\n* **Use it in a sentence:**  \"The orange sunset painted the sky.\"\\n\\nLet me know what you\\'d like to do!\\n'],\n",
       "   ['Orange', \"Let's try that again: Orange\"]),\n",
       "  ([\"Pineapple!  What about it?  Do you want to know something about pineapples?  For example:\\n\\n* **Nutritional information?**\\n* **Growing conditions?**\\n* **Recipes using pineapple?**\\n* **Interesting facts about pineapples?**\\n\\nLet me know what you'd like to discuss!\\n\",\n",
       "    'Okay, \"Pineapple.\"  Still waiting for your question or comment about pineapples!  I\\'m ready when you are.  Perhaps you\\'d like to know about:\\n\\n* **Its taste?**\\n* **Its texture?**\\n* **Where it\\'s grown?**\\n* **How it\\'s harvested?**\\n\\nTell me what you want to explore regarding pineapples!\\n'],\n",
       "   ['Pineapple', \"Let's try that again: Pineapple\"]),\n",
       "  ([\"Strawberry.  Is there anything you'd like to know about strawberries?  I can tell you about their nutritional value, how they're grown, different varieties, recipes using strawberries, or anything else that comes to mind.\\n\",\n",
       "    'Okay, \"Strawberry.\"  What about strawberries are you interested in?  I\\'m ready for your question or request!\\n'],\n",
       "   ['Strawberry', \"Let's try that again: Strawberry\"]),\n",
       "  ([\"Watermelon is a large, sweet, juicy fruit with a hard rind and typically red or pink flesh.  It's a popular summer treat, enjoyed for its refreshing taste and high water content.  There's more to it than just a delicious snack though; watermelons are also a good source of vitamins and antioxidants.\\n\",\n",
       "    'Okay, \"Watermelon\" is a word that refers to the fruit of the plant *Citrullus lanatus*.  What would you like to know about watermelon?  I can tell you about its:\\n\\n* **Cultivation:** Where it\\'s grown, its growing conditions, etc.\\n* **Nutritional value:** Vitamins, minerals, and other health benefits.\\n* **Varieties:** Different types of watermelon, like seedless varieties or those with yellow flesh.\\n* **Culinary uses:**  How it\\'s eaten, recipes, etc.\\n* **History:** Its origins and how it spread around the world.\\n\\nLet me know what you\\'d like to explore!\\n'],\n",
       "   ['Watermelon', \"Let's try that again: Watermelon\"]),\n",
       "  ([\"Grape.  Is there anything you'd like to know about grapes?  For example, are you interested in:\\n\\n* **Types of grapes?** (e.g., Cabernet Sauvignon, Merlot, Thompson Seedless)\\n* **Growing grapes?** (viticulture)\\n* **Winemaking?**\\n* **Nutritional information?**\\n* **Recipes using grapes?**\\n* **Something else entirely?**\\n\",\n",
       "    'Okay, \"Grape\" again.  I\\'m still here!  To help me give you a useful response, tell me what you want to know about grapes.  Perhaps you\\'re looking for a picture, a definition, a fact, or something else?\\n'],\n",
       "   ['Grape', \"Let's try that again: Grape\"]),\n",
       "  ([\"Mango is a delicious tropical fruit!  Is there anything specific you'd like to know about mangoes?  For example, are you interested in:\\n\\n* **Types of mangoes?** (e.g., Ataulfo, Alphonso, Haden)\\n* **Nutritional information?**\\n* **Recipes using mangoes?**\\n* **Where mangoes are grown?**\\n* **The history of mangoes?**\\n\",\n",
       "    \"Okay, I'm ready!  Tell me what you want to know about mangoes.  I can provide information on their cultivation, nutritional value, different varieties, culinary uses, or anything else mango-related that interests you.\\n\"],\n",
       "   ['Mango', \"Let's try that again: Mango\"])],\n",
       " '20250308T045709')"
      ]
     },
     "execution_count": 17,
     "metadata": {},
     "output_type": "execute_result"
    }
   ],
   "source": [
    "await inference.inference(\n",
    "    [lambda x: x, lambda x: \"Let's try that again: \" + x],\n",
    "    datapoints=[\"Apple\", \"Banana\", \"Orange\", \"Pineapple\", \"Strawberry\", \"Watermelon\", \"Grape\", \"Mango\", \"Kiwi\"],\n",
    "    tags=[\"meow\"],\n",
    "    temperature=0,\n",
    "    model_name=\"publishers/google/models/gemini-1.5-flash-002\",\n",
    ")"
   ]
  },
  {
   "cell_type": "code",
   "execution_count": 18,
   "metadata": {},
   "outputs": [
    {
     "name": "stderr",
     "output_type": "stream",
     "text": [
      "INFO:easyinference.inference:Running inference with timestamp tag: 20250308T045725\n",
      "INFO:easyinference.cloudsql.table_utils:Attempting to insert or replace row with content hash: 5d8f9e3d43b2a9cb88124a39cb012d2032680c4777f3174e4ba46082d0056899\n",
      "INFO:easyinference.cloudsql.table_utils:Found existing row with row_id 46. Will replace it.\n",
      "INFO:easyinference.cloudsql.table_utils:Successfully inserted/replaced row with content hash: 5d8f9e3d43b2a9cb88124a39cb012d2032680c4777f3174e4ba46082d0056899, assigned row_id: 46\n",
      "INFO:easyinference.cloudsql.table_utils:Attempting to insert or replace row with content hash: 5cc79f6ab75e7cb538e01391307381c68bcfc4161cae71cbc0ba9e1cfba9000b\n",
      "INFO:easyinference.cloudsql.table_utils:Found existing row with row_id 62. Will replace it.\n",
      "INFO:easyinference.cloudsql.table_utils:Successfully inserted/replaced row with content hash: 5cc79f6ab75e7cb538e01391307381c68bcfc4161cae71cbc0ba9e1cfba9000b, assigned row_id: 62\n",
      "INFO:easyinference.cloudsql.table_utils:Attempting to insert or replace row with content hash: fe08b88ee859889899aa709af0ba81ac1a48836c64f53233ade9b62b3d433e7b\n",
      "INFO:easyinference.cloudsql.table_utils:Found existing row with row_id 47. Will replace it.\n",
      "INFO:easyinference.cloudsql.table_utils:Successfully inserted/replaced row with content hash: fe08b88ee859889899aa709af0ba81ac1a48836c64f53233ade9b62b3d433e7b, assigned row_id: 47\n",
      "INFO:easyinference.cloudsql.table_utils:Attempting to insert or replace row with content hash: a8467a147267b24a0e8174754f98610e2b2c3e577bfc8dacf3262daa408e3fac\n",
      "INFO:easyinference.cloudsql.table_utils:Found existing row with row_id 55. Will replace it.\n",
      "INFO:easyinference.cloudsql.table_utils:Successfully inserted/replaced row with content hash: a8467a147267b24a0e8174754f98610e2b2c3e577bfc8dacf3262daa408e3fac, assigned row_id: 55\n",
      "INFO:easyinference.cloudsql.table_utils:Attempting to insert or replace row with content hash: af5d0442037fbec0fca797bab6338f07b474d2bd3de6bc598dd0cf28e5df3214\n",
      "INFO:easyinference.cloudsql.table_utils:Found existing row with row_id 48. Will replace it.\n",
      "INFO:easyinference.cloudsql.table_utils:Successfully inserted/replaced row with content hash: af5d0442037fbec0fca797bab6338f07b474d2bd3de6bc598dd0cf28e5df3214, assigned row_id: 48\n",
      "INFO:easyinference.cloudsql.table_utils:Attempting to insert or replace row with content hash: 95893680f35114a13bf3e3be1983aa05ccdd0852800e21136d95205f81f6d4ed\n",
      "INFO:easyinference.cloudsql.table_utils:Found existing row with row_id 56. Will replace it.\n",
      "INFO:easyinference.cloudsql.table_utils:Successfully inserted/replaced row with content hash: 95893680f35114a13bf3e3be1983aa05ccdd0852800e21136d95205f81f6d4ed, assigned row_id: 56\n",
      "INFO:easyinference.cloudsql.table_utils:Attempting to insert or replace row with content hash: a79a42a6eab87eafb21dd0fd066df3eed88ca3d71b5e35867b0107ad733abf3d\n",
      "INFO:easyinference.cloudsql.table_utils:Found existing row with row_id 49. Will replace it.\n",
      "INFO:easyinference.cloudsql.table_utils:Successfully inserted/replaced row with content hash: a79a42a6eab87eafb21dd0fd066df3eed88ca3d71b5e35867b0107ad733abf3d, assigned row_id: 49\n",
      "INFO:easyinference.cloudsql.table_utils:Attempting to insert or replace row with content hash: 9a8d8854b0c48b621f1e083ac3886feb85169e0700e776ab6dd222aa01db2846\n",
      "INFO:easyinference.cloudsql.table_utils:Found existing row with row_id 59. Will replace it.\n",
      "INFO:easyinference.cloudsql.table_utils:Successfully inserted/replaced row with content hash: 9a8d8854b0c48b621f1e083ac3886feb85169e0700e776ab6dd222aa01db2846, assigned row_id: 59\n",
      "INFO:easyinference.cloudsql.table_utils:Attempting to insert or replace row with content hash: 7da7ad8435a938657b4696399f2f2eaa3a6c46aef00233f8caefcff7c17ca774\n",
      "INFO:easyinference.cloudsql.table_utils:Found existing row with row_id 50. Will replace it.\n",
      "INFO:easyinference.cloudsql.table_utils:Successfully inserted/replaced row with content hash: 7da7ad8435a938657b4696399f2f2eaa3a6c46aef00233f8caefcff7c17ca774, assigned row_id: 50\n",
      "INFO:easyinference.cloudsql.table_utils:Attempting to insert or replace row with content hash: b31adf6a9e79ffe9f0342690dcdf776eecffbe974f58f7ca4f91df9a38c72f7f\n",
      "INFO:easyinference.cloudsql.table_utils:Found existing row with row_id 57. Will replace it.\n",
      "INFO:easyinference.cloudsql.table_utils:Successfully inserted/replaced row with content hash: b31adf6a9e79ffe9f0342690dcdf776eecffbe974f58f7ca4f91df9a38c72f7f, assigned row_id: 57\n",
      "INFO:easyinference.cloudsql.table_utils:Attempting to insert or replace row with content hash: 246ef6bdb7f0bd2cb2239cf3a7817d9ccbca80308141fbce9631d2c1edf9307c\n",
      "INFO:easyinference.cloudsql.table_utils:Found existing row with row_id 51. Will replace it.\n",
      "INFO:easyinference.cloudsql.table_utils:Successfully inserted/replaced row with content hash: 246ef6bdb7f0bd2cb2239cf3a7817d9ccbca80308141fbce9631d2c1edf9307c, assigned row_id: 51\n",
      "INFO:easyinference.cloudsql.table_utils:Attempting to insert or replace row with content hash: ac1a681499834843c48fdf214a7c5f2b3fdebc7511edfab8092c0e368a6133ea\n",
      "INFO:easyinference.cloudsql.table_utils:Found existing row with row_id 58. Will replace it.\n",
      "INFO:easyinference.cloudsql.table_utils:Successfully inserted/replaced row with content hash: ac1a681499834843c48fdf214a7c5f2b3fdebc7511edfab8092c0e368a6133ea, assigned row_id: 58\n",
      "INFO:easyinference.cloudsql.table_utils:Attempting to insert or replace row with content hash: d44ad6b2544f225b5c74dfc683591f685342c5f38f3ec32f649742e08eb3bcef\n",
      "INFO:easyinference.cloudsql.table_utils:Found existing row with row_id 52. Will replace it.\n",
      "INFO:easyinference.cloudsql.table_utils:Successfully inserted/replaced row with content hash: d44ad6b2544f225b5c74dfc683591f685342c5f38f3ec32f649742e08eb3bcef, assigned row_id: 52\n",
      "INFO:easyinference.cloudsql.table_utils:Attempting to insert or replace row with content hash: d48a1a29092a84b507309ae275600fbac7e872fc4e7925dacd4f931a1501b9d3\n",
      "INFO:easyinference.cloudsql.table_utils:Found existing row with row_id 61. Will replace it.\n",
      "INFO:easyinference.cloudsql.table_utils:Successfully inserted/replaced row with content hash: d48a1a29092a84b507309ae275600fbac7e872fc4e7925dacd4f931a1501b9d3, assigned row_id: 61\n",
      "INFO:easyinference.cloudsql.table_utils:Attempting to insert or replace row with content hash: 78082543568bd227a40bc93d491453e00167a4ea01e2ec79be5dd7273d7f070c\n",
      "INFO:easyinference.cloudsql.table_utils:Found existing row with row_id 53. Will replace it.\n",
      "INFO:easyinference.cloudsql.table_utils:Successfully inserted/replaced row with content hash: 78082543568bd227a40bc93d491453e00167a4ea01e2ec79be5dd7273d7f070c, assigned row_id: 53\n",
      "INFO:easyinference.cloudsql.table_utils:Attempting to insert or replace row with content hash: 810b368abb51b0b96ecdfb1ce4fbb1e0113703f9e852bc1acf405ff1e00c8f41\n",
      "INFO:easyinference.cloudsql.table_utils:Found existing row with row_id 60. Will replace it.\n",
      "INFO:easyinference.cloudsql.table_utils:Successfully inserted/replaced row with content hash: 810b368abb51b0b96ecdfb1ce4fbb1e0113703f9e852bc1acf405ff1e00c8f41, assigned row_id: 60\n",
      "INFO:easyinference.cloudsql.table_utils:Attempting to insert or replace row with content hash: cda68e39a63c183b0ba6369dfb1fc66dcb8c776ddb466be8f0a80b2e1239e3ea\n",
      "INFO:easyinference.cloudsql.table_utils:Found existing row with row_id 54. Will replace it.\n",
      "INFO:easyinference.cloudsql.table_utils:Successfully inserted/replaced row with content hash: cda68e39a63c183b0ba6369dfb1fc66dcb8c776ddb466be8f0a80b2e1239e3ea, assigned row_id: 54\n",
      "INFO:easyinference.cloudsql.table_utils:Attempting to insert or replace row with content hash: 577094cf854390b75f98c5042f9c7cbb3c31c94d04b7b839e168a4d31d71c5f8\n",
      "INFO:easyinference.cloudsql.table_utils:Found existing row with row_id 63. Will replace it.\n",
      "INFO:easyinference.cloudsql.table_utils:Successfully inserted/replaced row with content hash: 577094cf854390b75f98c5042f9c7cbb3c31c94d04b7b839e168a4d31d71c5f8, assigned row_id: 63\n",
      "INFO:easyinference.inference:Running clearing inference for tag 20250308T045725\n",
      "INFO:easyinference.cloudsql.table_utils:Fetching unique current_batch values from most recent rows by statuses: [<RequestStatus.RUNNING: 'Running'>, <RequestStatus.PENDING: 'Pending'>], tag: 20250308T045725\n",
      "INFO:easyinference.cloudsql.table_utils:Retrieved 0 unique current_batch values from most recent rows with statuses: [<RequestStatus.RUNNING: 'Running'>, <RequestStatus.PENDING: 'Pending'>] and tag: 20250308T045725\n",
      "INFO:easyinference.inference:Checking now if there are new rows that need to be launched\n",
      "INFO:easyinference.cloudsql.table_utils:Fetching most recent rows by statuses: [<RequestStatus.WAITING: 'Waiting'>, <RequestStatus.FAILED: 'Failed'>], tag: 20250308T045725\n",
      "INFO:easyinference.cloudsql.table_utils:Retrieved 0 most recent rows with statuses: [<RequestStatus.WAITING: 'Waiting'>, <RequestStatus.FAILED: 'Failed'>], tag: 20250308T045725 in batches of size: 1000\n",
      "INFO:easyinference.inference:Checking now if we are completely done with this tag\n",
      "INFO:easyinference.cloudsql.table_utils:Fetching most recent rows by statuses: [<RequestStatus.WAITING: 'Waiting'>, <RequestStatus.FAILED: 'Failed'>, <RequestStatus.PENDING: 'Pending'>, <RequestStatus.RUNNING: 'Running'>], tag: 20250308T045725\n",
      "INFO:easyinference.cloudsql.table_utils:Retrieved 0 most recent rows with statuses: [<RequestStatus.WAITING: 'Waiting'>, <RequestStatus.FAILED: 'Failed'>, <RequestStatus.PENDING: 'Pending'>, <RequestStatus.RUNNING: 'Running'>], tag: 20250308T045725, current_batch: None\n",
      "INFO:easyinference.inference:Clearing inference for tag 20250308T045725 completed\n"
     ]
    },
    {
     "data": {
      "text/plain": [
       "([([\"Apple is a multinational technology company headquartered in Cupertino, California.  It's known for its consumer electronics, computer software, and online services.  \\n\\nIs there anything specific you'd like to know about Apple?  For example, are you interested in:\\n\\n* **Specific products?** (e.g., iPhones, iPads, Macs, Apple Watch)\\n* **Their history?**\\n* **Their business model?**\\n* **Their current market position?**\\n* **Their controversies?**\\n\\nLet me know what you'd like to discuss!\\n\",\n",
       "    \"Okay, I understand.  You're prompting me to discuss Apple again.  To give you a more helpful response, please tell me what you want to know about Apple.  For example, are you interested in a specific product, their history, their current financial performance, or something else?\\n\"],\n",
       "   ['Apple', \"Let's try that again: Apple\"]),\n",
       "  (['Banana\\n',\n",
       "    'Okay, you said \"Banana\".  Anything else I can help you with regarding bananas, or anything else?\\n'],\n",
       "   ['Banana', \"Let's try that again: Banana\"]),\n",
       "  (['Orange.\\n',\n",
       "    'Okay, you said \"Orange\".  Is there anything you\\'d like to do with the word \"orange\"?  For example, we could:\\n\\n* **Discuss the color orange:**  Its shades, its symbolism, where it\\'s found in nature.\\n* **Discuss the fruit orange:** Its nutritional value, different varieties, how it\\'s grown.\\n* **Find synonyms for orange:**  Examples include amber, tangerine, gold.\\n* **Use it in a sentence:**  \"The orange sunset painted the sky.\"\\n\\nLet me know what you\\'d like to do!\\n'],\n",
       "   ['Orange', \"Let's try that again: Orange\"]),\n",
       "  ([\"Pineapple!  What about it?  Do you want to know something about pineapples?  For example:\\n\\n* **Nutritional information?**\\n* **Growing conditions?**\\n* **Recipes using pineapple?**\\n* **Interesting facts about pineapples?**\\n\\nLet me know what you'd like to discuss!\\n\",\n",
       "    'Okay, \"Pineapple.\"  Still waiting for your question or comment about pineapples!  I\\'m ready when you are.  Perhaps you\\'d like to know about:\\n\\n* **Its taste?**\\n* **Its texture?**\\n* **Where it\\'s grown?**\\n* **How it\\'s harvested?**\\n\\nTell me what you want to explore regarding pineapples!\\n'],\n",
       "   ['Pineapple', \"Let's try that again: Pineapple\"]),\n",
       "  ([\"Strawberry.  Is there anything you'd like to know about strawberries?  I can tell you about their nutritional value, how they're grown, different varieties, recipes using strawberries, or anything else that comes to mind.\\n\",\n",
       "    'Okay, \"Strawberry.\"  What about strawberries are you interested in?  I\\'m ready for your question or request!\\n'],\n",
       "   ['Strawberry', \"Let's try that again: Strawberry\"]),\n",
       "  ([\"Watermelon is a large, sweet, juicy fruit with a hard rind and typically red or pink flesh.  It's a popular summer treat, enjoyed for its refreshing taste and high water content.  There's more to it than just a delicious snack though; watermelons are also a good source of vitamins and antioxidants.\\n\",\n",
       "    'Okay, \"Watermelon\" is a word that refers to the fruit of the plant *Citrullus lanatus*.  What would you like to know about watermelon?  I can tell you about its:\\n\\n* **Cultivation:** Where it\\'s grown, its growing conditions, etc.\\n* **Nutritional value:** Vitamins, minerals, and other health benefits.\\n* **Varieties:** Different types of watermelon, like seedless varieties or those with yellow flesh.\\n* **Culinary uses:**  How it\\'s eaten, recipes, etc.\\n* **History:** Its origins and how it spread around the world.\\n\\nLet me know what you\\'d like to explore!\\n'],\n",
       "   ['Watermelon', \"Let's try that again: Watermelon\"]),\n",
       "  ([\"Grape.  Is there anything you'd like to know about grapes?  For example, are you interested in:\\n\\n* **Types of grapes?** (e.g., Cabernet Sauvignon, Merlot, Thompson Seedless)\\n* **Growing grapes?** (viticulture)\\n* **Winemaking?**\\n* **Nutritional information?**\\n* **Recipes using grapes?**\\n* **Something else entirely?**\\n\",\n",
       "    'Okay, \"Grape\" again.  I\\'m still here!  To help me give you a useful response, tell me what you want to know about grapes.  Perhaps you\\'re looking for a picture, a definition, a fact, or something else?\\n'],\n",
       "   ['Grape', \"Let's try that again: Grape\"]),\n",
       "  ([\"Mango is a delicious tropical fruit!  Is there anything specific you'd like to know about mangoes?  For example, are you interested in:\\n\\n* **Types of mangoes?** (e.g., Ataulfo, Alphonso, Haden)\\n* **Nutritional information?**\\n* **Recipes using mangoes?**\\n* **Where mangoes are grown?**\\n* **The history of mangoes?**\\n\",\n",
       "    \"Okay, I'm ready!  Tell me what you want to know about mangoes.  I can provide information on their cultivation, nutritional value, different varieties, culinary uses, or anything else mango-related that interests you.\\n\"],\n",
       "   ['Mango', \"Let's try that again: Mango\"]),\n",
       "  (['\"Kiwi\" can refer to a few things:\\n\\n* **The fruit:** A small, brown, fuzzy fruit with bright green flesh, known for its sweet and tangy flavor.  This is probably the most common association with the word.\\n\\n* **The bird:** A flightless bird native to New Zealand, also known as the kiwi.  It\\'s the national symbol of New Zealand.\\n\\n* **A person from New Zealand:**  Informally, a New Zealander is sometimes referred to as a Kiwi.\\n\\n* **A type of boot:**  A type of sturdy, often waterproof boot.  This usage is less common than the others.\\n\\n\\nTo understand what someone means by \"kiwi,\" you need to consider the context.\\n',\n",
       "    'The word \"kiwi\" is ambiguous without context.  It could refer to:\\n\\n* **The fruit:** A small, fuzzy brown fruit with bright green, tangy flesh.\\n* **The bird:** A flightless bird native to New Zealand, often considered a national symbol.\\n* **A New Zealander:**  A person from New Zealand.\\n* **A type of boot:**  A sturdy, often waterproof boot.\\n\\nPlease provide more context so I can understand which meaning you intend.\\n'],\n",
       "   ['Kiwi', \"Let's try that again: Kiwi\"])],\n",
       " '20250308T045725')"
      ]
     },
     "execution_count": 18,
     "metadata": {},
     "output_type": "execute_result"
    }
   ],
   "source": [
    "await inference.inference(\n",
    "    [lambda x: x, lambda x: \"Let's try that again: \" + x],\n",
    "    datapoints=[\"Apple\", \"Banana\", \"Orange\", \"Pineapple\", \"Strawberry\", \"Watermelon\", \"Grape\", \"Mango\", \"Kiwi\"],\n",
    "    tags=[\"meow\"],\n",
    "    temperature=0,\n",
    "    model_name=\"publishers/google/models/gemini-1.5-flash-002\",\n",
    "    run_fast=False,\n",
    ")"
   ]
  },
  {
   "cell_type": "code",
   "execution_count": 19,
   "metadata": {},
   "outputs": [
    {
     "name": "stderr",
     "output_type": "stream",
     "text": [
      "INFO:easyinference.inference:Running inference with timestamp tag: 20250308T045743\n",
      "INFO:easyinference.cloudsql.table_utils:Attempting to insert or replace row with content hash: a1d667cad6f7acd1d68e7efc9cf7e3e1f321c2b3bedeea05174aedd26885542d\n",
      "INFO:easyinference.cloudsql.table_utils:Found existing row with row_id 64. Will replace it.\n",
      "INFO:easyinference.cloudsql.table_utils:Successfully inserted/replaced row with content hash: a1d667cad6f7acd1d68e7efc9cf7e3e1f321c2b3bedeea05174aedd26885542d, assigned row_id: 64\n",
      "INFO:easyinference.cloudsql.table_utils:Attempting to insert or replace row with content hash: 8b79a1305654b0074e4e7c96b912c1d871932f11ce7c33362b1cd06eafeab23b\n",
      "INFO:easyinference.cloudsql.table_utils:Found existing row with row_id 65. Will replace it.\n",
      "INFO:easyinference.cloudsql.table_utils:Successfully inserted/replaced row with content hash: 8b79a1305654b0074e4e7c96b912c1d871932f11ce7c33362b1cd06eafeab23b, assigned row_id: 65\n",
      "INFO:easyinference.cloudsql.table_utils:Attempting to insert or replace row with content hash: 02136ee86b8153a146a4d179e8485554378c9ad249b6829fe39e68d195fcc920\n",
      "INFO:easyinference.cloudsql.table_utils:Found existing row with row_id 66. Will replace it.\n",
      "INFO:easyinference.cloudsql.table_utils:Successfully inserted/replaced row with content hash: 02136ee86b8153a146a4d179e8485554378c9ad249b6829fe39e68d195fcc920, assigned row_id: 66\n",
      "INFO:easyinference.cloudsql.table_utils:Attempting to insert or replace row with content hash: e1edf500a8f4c4a58d5440103e54eaba3416de9819925e04f63a37b056f8089f\n",
      "INFO:easyinference.cloudsql.table_utils:Found existing row with row_id 67. Will replace it.\n",
      "INFO:easyinference.cloudsql.table_utils:Successfully inserted/replaced row with content hash: e1edf500a8f4c4a58d5440103e54eaba3416de9819925e04f63a37b056f8089f, assigned row_id: 67\n",
      "INFO:easyinference.cloudsql.table_utils:Attempting to insert or replace row with content hash: acc0bb721a912753af6ab658767f4c1a8d8c41f8c5ba2626c9e69744d4242f55\n",
      "INFO:easyinference.cloudsql.table_utils:Found existing row with row_id 68. Will replace it.\n",
      "INFO:easyinference.cloudsql.table_utils:Successfully inserted/replaced row with content hash: acc0bb721a912753af6ab658767f4c1a8d8c41f8c5ba2626c9e69744d4242f55, assigned row_id: 68\n",
      "INFO:easyinference.cloudsql.table_utils:Attempting to insert or replace row with content hash: ee733602595a792b3e016c066d1c0131f3eb975b79167060ea3f0d68b2cf0ff7\n",
      "INFO:easyinference.cloudsql.table_utils:Found existing row with row_id 69. Will replace it.\n",
      "INFO:easyinference.cloudsql.table_utils:Successfully inserted/replaced row with content hash: ee733602595a792b3e016c066d1c0131f3eb975b79167060ea3f0d68b2cf0ff7, assigned row_id: 69\n",
      "INFO:easyinference.cloudsql.table_utils:Attempting to insert or replace row with content hash: f2555adfe3925ee7fa44baa224336cb448e8cb117c428da899c77c40d571762f\n",
      "INFO:easyinference.cloudsql.table_utils:Found existing row with row_id 70. Will replace it.\n",
      "INFO:easyinference.cloudsql.table_utils:Successfully inserted/replaced row with content hash: f2555adfe3925ee7fa44baa224336cb448e8cb117c428da899c77c40d571762f, assigned row_id: 70\n",
      "INFO:easyinference.cloudsql.table_utils:Attempting to insert or replace row with content hash: 1d1c654aa0c48e12e8cb35c45a59a5c3a8c613d29ae5f4782e6d7fece1699cb6\n",
      "INFO:easyinference.cloudsql.table_utils:Found existing row with row_id 71. Will replace it.\n",
      "INFO:easyinference.cloudsql.table_utils:Successfully inserted/replaced row with content hash: 1d1c654aa0c48e12e8cb35c45a59a5c3a8c613d29ae5f4782e6d7fece1699cb6, assigned row_id: 71\n",
      "INFO:easyinference.cloudsql.table_utils:Attempting to insert or replace row with content hash: 1d3ba47e6f343561b8067a244d297adce6dac339dbb203c1e23405b1af05f3b4\n",
      "INFO:easyinference.cloudsql.table_utils:Found existing row with row_id 72. Will replace it.\n",
      "INFO:easyinference.cloudsql.table_utils:Successfully inserted/replaced row with content hash: 1d3ba47e6f343561b8067a244d297adce6dac339dbb203c1e23405b1af05f3b4, assigned row_id: 72\n",
      "INFO:easyinference.inference:Running clearing inference for tag 20250308T045743\n",
      "INFO:easyinference.cloudsql.table_utils:Fetching unique current_batch values from most recent rows by statuses: [<RequestStatus.RUNNING: 'Running'>, <RequestStatus.PENDING: 'Pending'>], tag: 20250308T045743\n",
      "INFO:easyinference.cloudsql.table_utils:Retrieved 0 unique current_batch values from most recent rows with statuses: [<RequestStatus.RUNNING: 'Running'>, <RequestStatus.PENDING: 'Pending'>] and tag: 20250308T045743\n",
      "INFO:easyinference.inference:Checking now if there are new rows that need to be launched\n",
      "INFO:easyinference.cloudsql.table_utils:Fetching most recent rows by statuses: [<RequestStatus.WAITING: 'Waiting'>, <RequestStatus.FAILED: 'Failed'>], tag: 20250308T045743\n",
      "INFO:easyinference.cloudsql.table_utils:Retrieved 0 most recent rows with statuses: [<RequestStatus.WAITING: 'Waiting'>, <RequestStatus.FAILED: 'Failed'>], tag: 20250308T045743 in batches of size: 3\n",
      "INFO:easyinference.inference:Checking now if we are completely done with this tag\n",
      "INFO:easyinference.cloudsql.table_utils:Fetching most recent rows by statuses: [<RequestStatus.WAITING: 'Waiting'>, <RequestStatus.FAILED: 'Failed'>, <RequestStatus.PENDING: 'Pending'>, <RequestStatus.RUNNING: 'Running'>], tag: 20250308T045743\n",
      "INFO:easyinference.cloudsql.table_utils:Retrieved 0 most recent rows with statuses: [<RequestStatus.WAITING: 'Waiting'>, <RequestStatus.FAILED: 'Failed'>, <RequestStatus.PENDING: 'Pending'>, <RequestStatus.RUNNING: 'Running'>], tag: 20250308T045743, current_batch: None\n",
      "INFO:easyinference.inference:Clearing inference for tag 20250308T045743 completed\n"
     ]
    },
    {
     "data": {
      "text/plain": [
       "([(['As a large language model, I don\\'t have taste buds or personal preferences, so I can\\'t have a \"favorite\" way to eat an apple.  However, I can tell you about many popular ways people enjoy apples:\\n\\n* **Raw:**  Simply washed and bitten into. This is a classic and allows you to appreciate the apple\\'s crispness and natural sweetness.\\n\\n* **Baked:**  Baked apples are a warm, comforting treat, often with spices like cinnamon and nutmeg.\\n\\n* **In a pie or crumble:**  Apples are a quintessential ingredient in pies and crumbles, offering a sweet and tart filling.\\n\\n* **Sauced:** Applesauce is a versatile side dish or snack.\\n\\n* **Juiced:** Apple juice is a refreshing beverage.\\n\\n* **In salads:**  Apples add a sweet and crunchy element to salads.\\n\\n\\nThe \"best\" way to eat an apple is entirely a matter of personal taste!\\n'],\n",
       "   ['What is your favorite way to eat apple?']),\n",
       "  (['As a large language model, I don\\'t have taste buds or personal preferences, so I can\\'t have a \"favorite\" way to eat a banana.  However, I can tell you that many people enjoy them simply peeled and eaten raw.\\n'],\n",
       "   ['What is your favorite way to eat banana?']),\n",
       "  (['As a large language model, I don\\'t have taste buds or personal preferences, so I can\\'t have a \"favorite\" way to eat an orange.  However, I can tell you that many people enjoy eating oranges in a variety of ways, such as:\\n\\n* **Peeled and segmented:** This is a classic and convenient method.\\n* **Juiced:**  Provides a refreshing drink.\\n* **Added to salads:**  Adds a burst of flavor and vitamin C.\\n* **Zested:** The zest can be used to flavor baked goods or other dishes.\\n\\n\\nUltimately, the \"best\" way to eat an orange is a matter of personal preference!\\n'],\n",
       "   ['What is your favorite way to eat orange?']),\n",
       "  (['As a large language model, I don\\'t have taste buds or personal preferences, so I can\\'t have a \"favorite\" way to eat pineapple.  However, I can tell you that many people enjoy pineapple in a variety of ways, from fresh slices to juice to grilled or in desserts.\\n'],\n",
       "   ['What is your favorite way to eat pineapple?']),\n",
       "  (['As a large language model, I don\\'t have taste buds or personal preferences, so I can\\'t have a \"favorite\" way to eat a strawberry.  However, I can tell you about some popular and delicious ways people enjoy them:\\n\\n* **Fresh:** Simply washed and eaten straight from the stem.  This highlights the natural sweetness and flavor.\\n* **In a smoothie:** Blended with other fruits and yogurt for a refreshing and healthy treat.\\n* **On a shortcake:** Topped with whipped cream and a buttery biscuit. A classic combination!\\n* **In a salad:** Adding a sweet and juicy element to a savory salad.\\n* **In jam or preserves:**  A delicious spread for toast or biscuits.\\n\\nUltimately, the best way to eat a strawberry is however you enjoy it most!\\n'],\n",
       "   ['What is your favorite way to eat strawberry?']),\n",
       "  ([\"As a large language model, I don't have personal preferences like favorite foods.  However, I can tell you that a very popular and refreshing way to eat watermelon is simply chilled and cut into wedges.  The cool, sweet juice is delightful on a hot day.\\n\"],\n",
       "   ['What is your favorite way to eat watermelon?']),\n",
       "  (['As a large language model, I don\\'t have a body, taste buds, or personal preferences, so I can\\'t have a \"favorite\" way to eat a grape.  I can, however, tell you about popular ways people enjoy eating grapes:\\n\\n* **Straight from the bunch:** This is probably the most common way.\\n* **Frozen:**  Frozen grapes are a refreshing snack.\\n* **In a salad:** Grapes add sweetness and a nice texture to salads.\\n* **In smoothies:**  They blend well and add sweetness and nutrients.\\n* **On cheese boards:**  A classic pairing.\\n\\n\\nSo, while I don\\'t have a favorite, I can appreciate the versatility of the grape!\\n'],\n",
       "   ['What is your favorite way to eat grape?']),\n",
       "  (['As a large language model, I don\\'t have taste buds or personal preferences, so I can\\'t have a \"favorite\" way to eat a mango.  However, I can tell you that many people enjoy mangoes sliced, diced, in smoothies, or as a salsa!\\n'],\n",
       "   ['What is your favorite way to eat mango?']),\n",
       "  (['As a large language model, I don\\'t have taste buds or personal preferences, so I can\\'t have a \"favorite\" way to eat a kiwi.  However, I can tell you that many people enjoy kiwis simply sliced and eaten fresh.  Others might add them to smoothies, yogurt, or fruit salads.\\n'],\n",
       "   ['What is your favorite way to eat kiwi?'])],\n",
       " '20250308T045743')"
      ]
     },
     "execution_count": 19,
     "metadata": {},
     "output_type": "execute_result"
    }
   ],
   "source": [
    "await inference.inference(\n",
    "    [lambda x: \"What is your favorite way to eat \" + x.lower() + \"?\"],\n",
    "    datapoints=[\"Apple\", \"Banana\", \"Orange\", \"Pineapple\", \"Strawberry\", \"Watermelon\", \"Grape\", \"Mango\", \"Kiwi\"],\n",
    "    tags=[\"meow\"],\n",
    "    temperature=0,\n",
    "    model_name=\"publishers/google/models/gemini-1.5-flash-002\",\n",
    "    run_fast=False,\n",
    "    batch_size=3\n",
    ")"
   ]
  }
 ],
 "metadata": {
  "kernelspec": {
   "display_name": "venv",
   "language": "python",
   "name": "python3"
  },
  "language_info": {
   "codemirror_mode": {
    "name": "ipython",
    "version": 3
   },
   "file_extension": ".py",
   "mimetype": "text/x-python",
   "name": "python",
   "nbconvert_exporter": "python",
   "pygments_lexer": "ipython3",
   "version": "3.13.2"
  }
 },
 "nbformat": 4,
 "nbformat_minor": 2
}
